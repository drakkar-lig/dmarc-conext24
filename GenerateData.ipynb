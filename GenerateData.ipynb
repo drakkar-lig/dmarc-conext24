{
 "cells": [
  {
   "cell_type": "code",
   "execution_count": 5,
   "id": "initial_id",
   "metadata": {
    "collapsed": true,
    "execution": {
     "iopub.execute_input": "2024-07-09T13:30:28.539309Z",
     "iopub.status.busy": "2024-07-09T13:30:28.537683Z",
     "iopub.status.idle": "2024-07-09T13:30:28.772655Z",
     "shell.execute_reply": "2024-07-09T13:30:28.772235Z"
    },
    "ExecuteTime": {
     "end_time": "2024-07-10T16:43:35.750420979Z",
     "start_time": "2024-07-10T16:43:35.701773198Z"
    }
   },
   "outputs": [],
   "source": [
    "import pandas as pd\n",
    "import numpy as np\n",
    "import sqlite3\n",
    "import re\n",
    "import json\n",
    "import tldextract\n",
    "\n",
    "import warnings\n",
    "warnings.filterwarnings(\"ignore\")\n",
    "\n",
    "import os \n",
    "if not os.path.exists(\"results/\"):\n",
    "    os.mkdir(\"results\")"
   ]
  },
  {
   "cell_type": "markdown",
   "id": "861c40174ccba894",
   "metadata": {
    "collapsed": false
   },
   "source": [
    "Some Variable Used for the analysis "
   ]
  },
  {
   "cell_type": "code",
   "execution_count": 6,
   "id": "40c4a80e3ee29a06",
   "metadata": {
    "collapsed": false,
    "execution": {
     "iopub.execute_input": "2024-07-09T13:30:28.774656Z",
     "iopub.status.busy": "2024-07-09T13:30:28.774500Z",
     "iopub.status.idle": "2024-07-09T13:30:28.777604Z",
     "shell.execute_reply": "2024-07-09T13:30:28.777270Z"
    },
    "ExecuteTime": {
     "end_time": "2024-07-10T16:43:35.783587701Z",
     "start_time": "2024-07-10T16:43:35.712651264Z"
    }
   },
   "outputs": [],
   "source": [
    "domain_name_associated_features = {\n",
    "    \"email-sender-1.example\": {\"label\":\"F4\", \"verbose\": \"RUA within the organizational domain\"},\n",
    "    \"email-sender-2.example\": {\"label\":\"F6\", \"verbose\": \"RUA outside the organizational domain. EDV passes\"},\n",
    "    \"email-sender-3.example\": {\"label\":\"F7\", \"verbose\": \"RUA outside the organizational domain. EDV fails.\"},\n",
    "    \"email-sender-4.example\": {\"label\":\"F8\", \"verbose\": \"RUA outside the organizational domain. EDV passes. Records contain new RUA\"}\n",
    "}\n",
    "\n",
    "label_to_domain_name = {\n",
    "    'F4': 'email-sender-1.example', \n",
    "    'F6': 'email-sender-2.example', \n",
    "    'F7': 'email-sender-3.example', \n",
    "    'F8': 'email-sender-4.example',\n",
    "    'EDV_DOMAIN': 'email-sender-4.example',\n",
    "    'EDV_RECEIVER' : \"email-receiver-overwrite.example\"\n",
    "}\n",
    "\n",
    "\n",
    "esp_subdomains = ['163com', 'inboxlv', 'control-domainexample', 'rediffcom', 'gmailcom', 'outlookcom', 'tutanotacom', 'fastmailcom', 'mailcom', 'heycom', 'gmxnet', 'yahoocom', 'oppl', 'mailfencecom', 'protonmailcom', 'interiapl', 'kolabnowcom', 'freemailhu', 'seznamcz', 'yandexcom', 'orangefr', 'lapostenet', 'navercom', 'zohomaileu', 'mailru', 'sapopt']\n",
    "\n",
    "\n",
    "\n",
    "measurements_label = ['F7', 'F6', 'F4', 'F8']"
   ]
  },
  {
   "cell_type": "markdown",
   "source": [
    "# 1 : Extract Data from measurements files"
   ],
   "metadata": {
    "collapsed": false
   },
   "id": "22cbbde07e2958c7"
  },
  {
   "cell_type": "markdown",
   "id": "b65c243fae935fc6",
   "metadata": {
    "collapsed": false
   },
   "source": [
    "## a) Extracting data from Rspamd Logs\n",
    "Rspamd logs contains data about sent and receive email using the Mailcow suite\n"
   ]
  },
  {
   "cell_type": "code",
   "execution_count": 7,
   "id": "29aa3aa7a5b6b781",
   "metadata": {
    "collapsed": false,
    "execution": {
     "iopub.execute_input": "2024-07-09T13:30:28.779066Z",
     "iopub.status.busy": "2024-07-09T13:30:28.778911Z",
     "iopub.status.idle": "2024-07-09T13:30:28.883289Z",
     "shell.execute_reply": "2024-07-09T13:30:28.882905Z"
    },
    "ExecuteTime": {
     "end_time": "2024-07-10T16:43:35.839256591Z",
     "start_time": "2024-07-10T16:43:35.718030492Z"
    }
   },
   "outputs": [
    {
     "data": {
      "text/plain": "     unix_time                                         message-id  time_real  \\\n12  1695652404  169565240353.19703.10350902303625113444@zohoma...   0.067680   \n13  1695652403  169565240294.19703.4884400885574083640@yandexc...   0.119373   \n14  1695652402  169565240223.19703.11347189817033946450@yahooc...   0.081694   \n15  1695652402  169565240171.19703.12718450990756192606@seznam...   0.073125   \n16  1695652401  169565240111.19703.12802847786866253162@sapopt...   0.064959   \n\n                                 sender_smtp  \\\n12  badrua@zohomaileu.email-sender-3.example   \n13   badrua@yandexcom.email-sender-3.example   \n14    badrua@yahoocom.email-sender-3.example   \n15    badrua@seznamcz.email-sender-3.example   \n16      badrua@sapopt.email-sender-3.example   \n\n                                 sender_mime                      rcpt_smtp  \\\n12  badrua@zohomaileu.email-sender-3.example  [anonymized_user@zohomail.eu]   \n13   badrua@yandexcom.email-sender-3.example   [anonymized_user@yandex.com]   \n14    badrua@yahoocom.email-sender-3.example    [anonymized_user@yahoo.com]   \n15    badrua@seznamcz.email-sender-3.example    [anonymized_user@seznam.cz]   \n16      badrua@sapopt.email-sender-3.example      [anonymized_user@sapo.pt]   \n\n                        rcpt_mime     action  \\\n12  [anonymized_user@zohomail.eu]  no action   \n13   [anonymized_user@yandex.com]  no action   \n14    [anonymized_user@yahoo.com]  no action   \n15    [anonymized_user@seznam.cz]  no action   \n16      [anonymized_user@sapo.pt]  no action   \n\n                                     ip  \\\n12  2001:660:5301:24:2be:43ff:fe2b:1978   \n13  2001:660:5301:24:2be:43ff:fe2b:1978   \n14  2001:660:5301:24:2be:43ff:fe2b:1978   \n15  2001:660:5301:24:2be:43ff:fe2b:1978   \n16  2001:660:5301:24:2be:43ff:fe2b:1978   \n\n                                              symbols  ...  \\\n12  {'TO_MATCH_ENVRCPT_ALL': {'metric_score': 0, '...  ...   \n13  {'TO_MATCH_ENVRCPT_ALL': {'metric_score': 0, '...  ...   \n14  {'TO_MATCH_ENVRCPT_ALL': {'metric_score': 0, '...  ...   \n15  {'TO_MATCH_ENVRCPT_ALL': {'metric_score': 0, '...  ...   \n16  {'TO_MATCH_ENVRCPT_ALL': {'metric_score': 0, '...  ...   \n\n                                      user  size is_skipped  required_score  \\\n12  anonymized_user@email-sender-3.example  2051      False              15   \n13  anonymized_user@email-sender-3.example  1814      False              15   \n14  anonymized_user@email-sender-3.example  2342      False              15   \n15  anonymized_user@email-sender-3.example  1915      False              15   \n16  anonymized_user@email-sender-3.example  1745      False              15   \n\n    aligned_spf  aligned_dkim measurement_features_label  \\\n12        False         False                         F7   \n13        False         False                         F7   \n14        False         False                         F7   \n15        False         False                         F7   \n16        False         False                         F7   \n\n                         measurement_features_verbose targeted_esp  \\\n12  RUA outside the organizational domain. EDV fails.   zohomaileu   \n13  RUA outside the organizational domain. EDV fails.    yandexcom   \n14  RUA outside the organizational domain. EDV fails.     yahoocom   \n15  RUA outside the organizational domain. EDV fails.     seznamcz   \n16  RUA outside the organizational domain. EDV fails.       sapopt   \n\n   email_sent_to  \n12   zohomail.eu  \n13    yandex.com  \n14     yahoo.com  \n15     seznam.cz  \n16       sapo.pt  \n\n[5 rows x 22 columns]",
      "text/html": "<div>\n<style scoped>\n    .dataframe tbody tr th:only-of-type {\n        vertical-align: middle;\n    }\n\n    .dataframe tbody tr th {\n        vertical-align: top;\n    }\n\n    .dataframe thead th {\n        text-align: right;\n    }\n</style>\n<table border=\"1\" class=\"dataframe\">\n  <thead>\n    <tr style=\"text-align: right;\">\n      <th></th>\n      <th>unix_time</th>\n      <th>message-id</th>\n      <th>time_real</th>\n      <th>sender_smtp</th>\n      <th>sender_mime</th>\n      <th>rcpt_smtp</th>\n      <th>rcpt_mime</th>\n      <th>action</th>\n      <th>ip</th>\n      <th>symbols</th>\n      <th>...</th>\n      <th>user</th>\n      <th>size</th>\n      <th>is_skipped</th>\n      <th>required_score</th>\n      <th>aligned_spf</th>\n      <th>aligned_dkim</th>\n      <th>measurement_features_label</th>\n      <th>measurement_features_verbose</th>\n      <th>targeted_esp</th>\n      <th>email_sent_to</th>\n    </tr>\n  </thead>\n  <tbody>\n    <tr>\n      <th>12</th>\n      <td>1695652404</td>\n      <td>169565240353.19703.10350902303625113444@zohoma...</td>\n      <td>0.067680</td>\n      <td>badrua@zohomaileu.email-sender-3.example</td>\n      <td>badrua@zohomaileu.email-sender-3.example</td>\n      <td>[anonymized_user@zohomail.eu]</td>\n      <td>[anonymized_user@zohomail.eu]</td>\n      <td>no action</td>\n      <td>2001:660:5301:24:2be:43ff:fe2b:1978</td>\n      <td>{'TO_MATCH_ENVRCPT_ALL': {'metric_score': 0, '...</td>\n      <td>...</td>\n      <td>anonymized_user@email-sender-3.example</td>\n      <td>2051</td>\n      <td>False</td>\n      <td>15</td>\n      <td>False</td>\n      <td>False</td>\n      <td>F7</td>\n      <td>RUA outside the organizational domain. EDV fails.</td>\n      <td>zohomaileu</td>\n      <td>zohomail.eu</td>\n    </tr>\n    <tr>\n      <th>13</th>\n      <td>1695652403</td>\n      <td>169565240294.19703.4884400885574083640@yandexc...</td>\n      <td>0.119373</td>\n      <td>badrua@yandexcom.email-sender-3.example</td>\n      <td>badrua@yandexcom.email-sender-3.example</td>\n      <td>[anonymized_user@yandex.com]</td>\n      <td>[anonymized_user@yandex.com]</td>\n      <td>no action</td>\n      <td>2001:660:5301:24:2be:43ff:fe2b:1978</td>\n      <td>{'TO_MATCH_ENVRCPT_ALL': {'metric_score': 0, '...</td>\n      <td>...</td>\n      <td>anonymized_user@email-sender-3.example</td>\n      <td>1814</td>\n      <td>False</td>\n      <td>15</td>\n      <td>False</td>\n      <td>False</td>\n      <td>F7</td>\n      <td>RUA outside the organizational domain. EDV fails.</td>\n      <td>yandexcom</td>\n      <td>yandex.com</td>\n    </tr>\n    <tr>\n      <th>14</th>\n      <td>1695652402</td>\n      <td>169565240223.19703.11347189817033946450@yahooc...</td>\n      <td>0.081694</td>\n      <td>badrua@yahoocom.email-sender-3.example</td>\n      <td>badrua@yahoocom.email-sender-3.example</td>\n      <td>[anonymized_user@yahoo.com]</td>\n      <td>[anonymized_user@yahoo.com]</td>\n      <td>no action</td>\n      <td>2001:660:5301:24:2be:43ff:fe2b:1978</td>\n      <td>{'TO_MATCH_ENVRCPT_ALL': {'metric_score': 0, '...</td>\n      <td>...</td>\n      <td>anonymized_user@email-sender-3.example</td>\n      <td>2342</td>\n      <td>False</td>\n      <td>15</td>\n      <td>False</td>\n      <td>False</td>\n      <td>F7</td>\n      <td>RUA outside the organizational domain. EDV fails.</td>\n      <td>yahoocom</td>\n      <td>yahoo.com</td>\n    </tr>\n    <tr>\n      <th>15</th>\n      <td>1695652402</td>\n      <td>169565240171.19703.12718450990756192606@seznam...</td>\n      <td>0.073125</td>\n      <td>badrua@seznamcz.email-sender-3.example</td>\n      <td>badrua@seznamcz.email-sender-3.example</td>\n      <td>[anonymized_user@seznam.cz]</td>\n      <td>[anonymized_user@seznam.cz]</td>\n      <td>no action</td>\n      <td>2001:660:5301:24:2be:43ff:fe2b:1978</td>\n      <td>{'TO_MATCH_ENVRCPT_ALL': {'metric_score': 0, '...</td>\n      <td>...</td>\n      <td>anonymized_user@email-sender-3.example</td>\n      <td>1915</td>\n      <td>False</td>\n      <td>15</td>\n      <td>False</td>\n      <td>False</td>\n      <td>F7</td>\n      <td>RUA outside the organizational domain. EDV fails.</td>\n      <td>seznamcz</td>\n      <td>seznam.cz</td>\n    </tr>\n    <tr>\n      <th>16</th>\n      <td>1695652401</td>\n      <td>169565240111.19703.12802847786866253162@sapopt...</td>\n      <td>0.064959</td>\n      <td>badrua@sapopt.email-sender-3.example</td>\n      <td>badrua@sapopt.email-sender-3.example</td>\n      <td>[anonymized_user@sapo.pt]</td>\n      <td>[anonymized_user@sapo.pt]</td>\n      <td>no action</td>\n      <td>2001:660:5301:24:2be:43ff:fe2b:1978</td>\n      <td>{'TO_MATCH_ENVRCPT_ALL': {'metric_score': 0, '...</td>\n      <td>...</td>\n      <td>anonymized_user@email-sender-3.example</td>\n      <td>1745</td>\n      <td>False</td>\n      <td>15</td>\n      <td>False</td>\n      <td>False</td>\n      <td>F7</td>\n      <td>RUA outside the organizational domain. EDV fails.</td>\n      <td>sapopt</td>\n      <td>sapo.pt</td>\n    </tr>\n  </tbody>\n</table>\n<p>5 rows × 22 columns</p>\n</div>"
     },
     "execution_count": 7,
     "metadata": {},
     "output_type": "execute_result"
    }
   ],
   "source": [
    "def extract_feature_from_sender_smtp(smtp_sender)->str:\n",
    "    domain = \".\".join(smtp_sender.split(\".\")[1:])\n",
    "    feature = domain_name_associated_features.get(domain, {})\n",
    "    return feature\n",
    "\n",
    "def extract_target_esp_from_sender_smtp(smtp_sender)->str:\n",
    "    return smtp_sender.split(\"@\")[1].split(\".\")[0]\n",
    "\n",
    "def extract_spf_alignment_info(smtp_sender)->bool:\n",
    "    return True if smtp_sender[:8] == \"goodrua@\" else (False if smtp_sender[:7] == \"badrua@\" else None)\n",
    "\n",
    "def extract_dkim_alignment_info(symbols)->bool:\n",
    "    rspamd = symbols.get(\"DKIM_SIGNED\", {}).get(\"options\", None)\n",
    "    return None if rspamd is None else not \"dkimfalse\" in rspamd[0]\n",
    "\n",
    "def extract_fqdn_sendto(email_address:str)->str:\n",
    "    fqdn = tldextract.extract(email_address).fqdn \n",
    "    \n",
    "    # tldextract does not recognize .example TLD as defined in RFC 2606\n",
    "    # https://www.rfc-editor.org/rfc/rfc2606.html#section-2\n",
    "    if fqdn == \"\" and email_address == \"testESP@control-domain.example\":\n",
    "        fqdn = \"control-domain.example\"\n",
    "        \n",
    "    return fqdn\n",
    "\n",
    "with open(\"data/logs/rspamd.json\", 'r') as fp:\n",
    "    rspamd_dataframe = pd.DataFrame([json.loads(line) for line in fp.readlines()])\n",
    "    \n",
    "rspamd_dataframe[\"aligned_spf\"] = rspamd_dataframe['sender_smtp'].apply(lambda x:  extract_spf_alignment_info(x))\n",
    "rspamd_dataframe[\"aligned_dkim\"] = rspamd_dataframe[\"symbols\"].apply(lambda x: extract_dkim_alignment_info(x))\n",
    "\n",
    "rspamd_dataframe = rspamd_dataframe[rspamd_dataframe[\"aligned_spf\"].notna()]\n",
    "rspamd_dataframe[\"measurement_features_label\"] = rspamd_dataframe['sender_smtp'].apply(lambda x:extract_feature_from_sender_smtp(x).get(\"label\"))\n",
    "rspamd_dataframe[\"measurement_features_verbose\"] = rspamd_dataframe['sender_smtp'].apply(lambda x:extract_feature_from_sender_smtp(x).get(\"verbose\"))\n",
    "rspamd_dataframe[\"targeted_esp\"] = rspamd_dataframe['sender_smtp'].apply(lambda x:extract_target_esp_from_sender_smtp(x))\n",
    "rspamd_dataframe[\"email_sent_to\"] = rspamd_dataframe['rcpt_smtp'].apply(lambda x:  extract_fqdn_sendto(x[0]) )\n",
    "\n",
    "\n",
    "# Generate rspamd .csv file from the dataset\n",
    "rspamd_dataframe.to_csv(\"results/rspamd.csv\", index=False)\n",
    "\n",
    "\n",
    "rspamd_dataframe.head()"
   ]
  },
  {
   "cell_type": "markdown",
   "id": "bb28a58cc3b9d80c",
   "metadata": {
    "collapsed": false
   },
   "source": [
    "## b) Extracting data from the Bind log file.\n",
    "The file contains the domain names and resource record querried to our authoritative nameserver.\n",
    "We first extract the data from this file and create an .sqlite3 database storing the following data : \"TIME\", \"IP_SOURCE\", \"PORT_SOURCE\", \"QUERY\", \"TYPE\"\n",
    "Using the sqlite database we create the variable DataFrame passive_dns_dataframe containing the information for the .tex table generation.\n",
    "\n"
   ]
  },
  {
   "cell_type": "code",
   "execution_count": 10,
   "id": "6cdc0f04dfe105ad",
   "metadata": {
    "collapsed": false,
    "execution": {
     "iopub.execute_input": "2024-07-09T13:30:28.885048Z",
     "iopub.status.busy": "2024-07-09T13:30:28.884916Z",
     "iopub.status.idle": "2024-07-09T13:30:29.097332Z",
     "shell.execute_reply": "2024-07-09T13:30:29.096787Z"
    },
    "ExecuteTime": {
     "end_time": "2024-07-10T16:44:02.478096351Z",
     "start_time": "2024-07-10T16:44:02.253249282Z"
    }
   },
   "outputs": [
    {
     "data": {
      "text/plain": "                      ESP  SPF_txt  SPF_exsit  DKIM_txt  DMARC_txt  \\\n0                  163com     True      False      True       True   \n1                 inboxlv     True       True      True       True   \n2   control-domainexample     True       True      True       True   \n3               rediffcom     True       True      True       True   \n4                gmailcom     True       True      True       True   \n5              outlookcom     True       True      True       True   \n6             tutanotacom     True       True      True       True   \n7             fastmailcom     True       True      True       True   \n8                 mailcom     True       True      True       True   \n9                  heycom     True       True      True       True   \n10                 gmxnet     True       True      True       True   \n11               yahoocom     True       True      True       True   \n12                   oppl     True       True      True       True   \n13           mailfencecom     True       True      True       True   \n14          protonmailcom     True       True      True       True   \n15              interiapl     True       True      True       True   \n16            kolabnowcom     True       True      True      False   \n17             freemailhu    False      False     False      False   \n18               seznamcz     True       True      True       True   \n19              yandexcom     True      False      True       True   \n20               orangefr     True       True      True       True   \n21             lapostenet     True       True      True       True   \n22               navercom     True       True      True       True   \n23             zohomaileu     True       True      True       True   \n24                 mailru     True       True      True       True   \n25                 sapopt     True       True      True       True   \n\n    EDV_process  \n0         False  \n1         False  \n2         False  \n3         False  \n4         False  \n5         False  \n6         False  \n7          True  \n8         False  \n9         False  \n10        False  \n11         True  \n12         True  \n13        False  \n14        False  \n15        False  \n16        False  \n17        False  \n18        False  \n19        False  \n20        False  \n21         True  \n22        False  \n23        False  \n24         True  \n25        False  ",
      "text/html": "<div>\n<style scoped>\n    .dataframe tbody tr th:only-of-type {\n        vertical-align: middle;\n    }\n\n    .dataframe tbody tr th {\n        vertical-align: top;\n    }\n\n    .dataframe thead th {\n        text-align: right;\n    }\n</style>\n<table border=\"1\" class=\"dataframe\">\n  <thead>\n    <tr style=\"text-align: right;\">\n      <th></th>\n      <th>ESP</th>\n      <th>SPF_txt</th>\n      <th>SPF_exsit</th>\n      <th>DKIM_txt</th>\n      <th>DMARC_txt</th>\n      <th>EDV_process</th>\n    </tr>\n  </thead>\n  <tbody>\n    <tr>\n      <th>0</th>\n      <td>163com</td>\n      <td>True</td>\n      <td>False</td>\n      <td>True</td>\n      <td>True</td>\n      <td>False</td>\n    </tr>\n    <tr>\n      <th>1</th>\n      <td>inboxlv</td>\n      <td>True</td>\n      <td>True</td>\n      <td>True</td>\n      <td>True</td>\n      <td>False</td>\n    </tr>\n    <tr>\n      <th>2</th>\n      <td>control-domainexample</td>\n      <td>True</td>\n      <td>True</td>\n      <td>True</td>\n      <td>True</td>\n      <td>False</td>\n    </tr>\n    <tr>\n      <th>3</th>\n      <td>rediffcom</td>\n      <td>True</td>\n      <td>True</td>\n      <td>True</td>\n      <td>True</td>\n      <td>False</td>\n    </tr>\n    <tr>\n      <th>4</th>\n      <td>gmailcom</td>\n      <td>True</td>\n      <td>True</td>\n      <td>True</td>\n      <td>True</td>\n      <td>False</td>\n    </tr>\n    <tr>\n      <th>5</th>\n      <td>outlookcom</td>\n      <td>True</td>\n      <td>True</td>\n      <td>True</td>\n      <td>True</td>\n      <td>False</td>\n    </tr>\n    <tr>\n      <th>6</th>\n      <td>tutanotacom</td>\n      <td>True</td>\n      <td>True</td>\n      <td>True</td>\n      <td>True</td>\n      <td>False</td>\n    </tr>\n    <tr>\n      <th>7</th>\n      <td>fastmailcom</td>\n      <td>True</td>\n      <td>True</td>\n      <td>True</td>\n      <td>True</td>\n      <td>True</td>\n    </tr>\n    <tr>\n      <th>8</th>\n      <td>mailcom</td>\n      <td>True</td>\n      <td>True</td>\n      <td>True</td>\n      <td>True</td>\n      <td>False</td>\n    </tr>\n    <tr>\n      <th>9</th>\n      <td>heycom</td>\n      <td>True</td>\n      <td>True</td>\n      <td>True</td>\n      <td>True</td>\n      <td>False</td>\n    </tr>\n    <tr>\n      <th>10</th>\n      <td>gmxnet</td>\n      <td>True</td>\n      <td>True</td>\n      <td>True</td>\n      <td>True</td>\n      <td>False</td>\n    </tr>\n    <tr>\n      <th>11</th>\n      <td>yahoocom</td>\n      <td>True</td>\n      <td>True</td>\n      <td>True</td>\n      <td>True</td>\n      <td>True</td>\n    </tr>\n    <tr>\n      <th>12</th>\n      <td>oppl</td>\n      <td>True</td>\n      <td>True</td>\n      <td>True</td>\n      <td>True</td>\n      <td>True</td>\n    </tr>\n    <tr>\n      <th>13</th>\n      <td>mailfencecom</td>\n      <td>True</td>\n      <td>True</td>\n      <td>True</td>\n      <td>True</td>\n      <td>False</td>\n    </tr>\n    <tr>\n      <th>14</th>\n      <td>protonmailcom</td>\n      <td>True</td>\n      <td>True</td>\n      <td>True</td>\n      <td>True</td>\n      <td>False</td>\n    </tr>\n    <tr>\n      <th>15</th>\n      <td>interiapl</td>\n      <td>True</td>\n      <td>True</td>\n      <td>True</td>\n      <td>True</td>\n      <td>False</td>\n    </tr>\n    <tr>\n      <th>16</th>\n      <td>kolabnowcom</td>\n      <td>True</td>\n      <td>True</td>\n      <td>True</td>\n      <td>False</td>\n      <td>False</td>\n    </tr>\n    <tr>\n      <th>17</th>\n      <td>freemailhu</td>\n      <td>False</td>\n      <td>False</td>\n      <td>False</td>\n      <td>False</td>\n      <td>False</td>\n    </tr>\n    <tr>\n      <th>18</th>\n      <td>seznamcz</td>\n      <td>True</td>\n      <td>True</td>\n      <td>True</td>\n      <td>True</td>\n      <td>False</td>\n    </tr>\n    <tr>\n      <th>19</th>\n      <td>yandexcom</td>\n      <td>True</td>\n      <td>False</td>\n      <td>True</td>\n      <td>True</td>\n      <td>False</td>\n    </tr>\n    <tr>\n      <th>20</th>\n      <td>orangefr</td>\n      <td>True</td>\n      <td>True</td>\n      <td>True</td>\n      <td>True</td>\n      <td>False</td>\n    </tr>\n    <tr>\n      <th>21</th>\n      <td>lapostenet</td>\n      <td>True</td>\n      <td>True</td>\n      <td>True</td>\n      <td>True</td>\n      <td>True</td>\n    </tr>\n    <tr>\n      <th>22</th>\n      <td>navercom</td>\n      <td>True</td>\n      <td>True</td>\n      <td>True</td>\n      <td>True</td>\n      <td>False</td>\n    </tr>\n    <tr>\n      <th>23</th>\n      <td>zohomaileu</td>\n      <td>True</td>\n      <td>True</td>\n      <td>True</td>\n      <td>True</td>\n      <td>False</td>\n    </tr>\n    <tr>\n      <th>24</th>\n      <td>mailru</td>\n      <td>True</td>\n      <td>True</td>\n      <td>True</td>\n      <td>True</td>\n      <td>True</td>\n    </tr>\n    <tr>\n      <th>25</th>\n      <td>sapopt</td>\n      <td>True</td>\n      <td>True</td>\n      <td>True</td>\n      <td>True</td>\n      <td>False</td>\n    </tr>\n  </tbody>\n</table>\n</div>"
     },
     "execution_count": 10,
     "metadata": {},
     "output_type": "execute_result"
    }
   ],
   "source": [
    "def create_and_populate_bind_database():\n",
    "\n",
    "    queries = []\n",
    "    \n",
    "    # Define a regular expression pattern to match BIND9 query log entries\n",
    "    #log_pattern = r'(\\d{4}-\\d{2}-\\d{2} \\d{2}:\\d{2}:\\d{2}) .*?client ([\\d.]+)#\\d+: query: ([\\w.-]+) (\\w+)'\n",
    "    log_pattern = '([0-9]{1,2}-[A-z]{1,3}-[0-9]{4} [0-9]{1,2}:[0-9]{1,2}:[0-9]{1,2}).*client @[^ ]+ ([^# ]+)#([0-9]+) .*query: (.*) (IN|in) ([^ ]+)'\n",
    "    \n",
    "    # Sample BIND9 query log entry\n",
    "    \n",
    "    # Use the regular expression pattern to parse the log entry\n",
    "    with open(\"data/logs/dns.txt\", \"r\") as fp:\n",
    "        for line in fp.readlines():\n",
    "            match = re.match(log_pattern, line.lower())\n",
    "            try:\n",
    "                timestamp = match.group(1)\n",
    "                ip_source = match.group(2)\n",
    "                port_source = match.group(3)\n",
    "                query = match.group(4)\n",
    "                type = match.group(6).upper()\n",
    "                npa = np.array([timestamp, ip_source, port_source, query, type])\n",
    "                queries.append(npa)\n",
    "                \n",
    "            except Exception as e:\n",
    "                ok = False\n",
    "                for value_to_ignore in [\"hostname.bind\", \"version.bind\", \"id.server\", \"www.stage\"]:\n",
    "                    if value_to_ignore in line.lower():\n",
    "                        ok = True\n",
    "                if ok:\n",
    "                    continue\n",
    "                raise e\n",
    "            \n",
    "    df = pd.DataFrame(np.array(queries), columns=[\"TIME\", \"IP_SOURCE\", \"PORT_SOURCE\", \"QUERY\", \"TYPE\"])\n",
    "    \n",
    "    \n",
    "    \n",
    "    conn = sqlite3.connect('results/bind.sqlite')\n",
    "    df.to_sql('results', conn, if_exists='replace', index=False)\n",
    "    conn.close()\n",
    "    \n",
    "    return\n",
    "\n",
    "def is_there_spf_exist(domain):\n",
    "    conn = sqlite3.connect('results/bind.sqlite')\n",
    "    cur = conn.cursor()\n",
    "    cur.execute(f'select distinct QUERY, TYPE from results where QUERY =  \"goodrua._spf.{domain}.{label_to_domain_name[\"F4\"].lower()}\";')\n",
    "    res = cur.fetchone() is not None\n",
    "    conn.close()\n",
    "    return res\n",
    "\n",
    "def is_there_spf_TXT(domain):\n",
    "    conn = sqlite3.connect('results/bind.sqlite')\n",
    "    cur = conn.cursor()\n",
    "    cur.execute(f'select * from results where QUERY = \"{domain}.{label_to_domain_name[\"F4\"].lower()}\" and TYPE = \"TXT\"')\n",
    "    res = cur.fetchone() is not None\n",
    "    conn.close()\n",
    "    return res\n",
    "\n",
    "def is_there_DKIM(domain):\n",
    "    conn = sqlite3.connect('results/bind.sqlite')\n",
    "    cur = conn.cursor()\n",
    "    cur.execute(f' select distinct QUERY, TYPE from results where QUERY =  \"dkim._domainkey.{domain}.{label_to_domain_name[\"F4\"].lower()}\" and TYPE = \"TXT\";')\n",
    "    res = cur.fetchone() is not None\n",
    "    conn.close()\n",
    "    return res\n",
    "\n",
    "def is_there_DMARC(domain):\n",
    "    conn = sqlite3.connect('results/bind.sqlite')\n",
    "    cur = conn.cursor()\n",
    "    cur.execute(f'select * from results where QUERY = \"_dmarc.{domain}.{label_to_domain_name[\"F4\"].lower()}\" and TYPE = \"TXT\"')\n",
    "    res = cur.fetchone() is not None\n",
    "    conn.close()\n",
    "    return res\n",
    "\n",
    "def is_there_external_verif(domain):\n",
    "    conn = sqlite3.connect('results/bind.sqlite')\n",
    "    cur = conn.cursor()\n",
    "    cur.execute(f'select * from results where QUERY = \"{domain}.{label_to_domain_name[\"EDV_DOMAIN\"].lower()}._report._dmarc.{label_to_domain_name[\"EDV_RECEIVER\"].lower()}\"')\n",
    "    res = cur.fetchone() is not None\n",
    "    conn.close()\n",
    "    return res\n",
    "\n",
    "def bind_results_for_esp(esp):\n",
    "    return {\n",
    "        \"ESP\":esp,\n",
    "        \"SPF_txt\": is_there_spf_TXT(esp),\n",
    "        \"SPF_exsit\": is_there_spf_exist(esp),\n",
    "        \"DKIM_txt\": is_there_DKIM(esp),\n",
    "        \"DMARC_txt\": is_there_DMARC(esp),\n",
    "        \"EDV_process\":is_there_external_verif(esp)  \n",
    "    }\n",
    "\n",
    "\n",
    "create_and_populate_bind_database()\n",
    "passive_dns_dataframe = pd.DataFrame([bind_results_for_esp(esp) for esp in esp_subdomains ])\n",
    "\n",
    "passive_dns_dataframe\n",
    "    "
   ]
  },
  {
   "cell_type": "markdown",
   "id": "512adcc2a0a3aeb3",
   "metadata": {
    "collapsed": false
   },
   "source": [
    "## c) Extract Information from Email Received in ESPs' mailbox\n",
    "\n",
    "This cell extract the authentication information from all the emails we have retrieved in the ESP's registerd account inbox."
   ]
  },
  {
   "cell_type": "code",
   "execution_count": 11,
   "id": "4eeeb3adf3019ffd",
   "metadata": {
    "collapsed": false,
    "execution": {
     "iopub.execute_input": "2024-07-09T13:30:29.098982Z",
     "iopub.status.busy": "2024-07-09T13:30:29.098877Z",
     "iopub.status.idle": "2024-07-09T13:30:30.448300Z",
     "shell.execute_reply": "2024-07-09T13:30:30.447913Z"
    },
    "ExecuteTime": {
     "end_time": "2024-07-10T16:44:03.965831633Z",
     "start_time": "2024-07-10T16:44:02.461153793Z"
    }
   },
   "outputs": [
    {
     "name": "stdout",
     "output_type": "stream",
     "text": [
      "{'lapostenet': ['arc', 'spf', 'bimi', 'dmarc', 'dkim'], 'tutanotacom': ['dmarc', 'dkim'], 'mailcom': ['dkim'], 'rediffcom': ['spf', 'dmarc', 'dkim'], 'heycom': ['dmarc', 'spf', 'dkim'], 'gmxnet': ['dkim'], 'mailfencecom': [], 'orangefr': ['arc', 'dkim'], 'freemailhu': [], 'kolabnowcom': ['dkim'], 'gmailcom': ['spf', 'dmarc', 'dkim'], 'yandexcom': ['spf', 'dkim'], 'navercom': ['spf', 'dmarc', 'dkim'], 'sapopt': [], 'seznamcz': [], 'inboxlv': ['spf', 'dmarc', 'dkim'], 'oppl': ['x-tls', 'iprev', 'spf', 'bimi', 'dmarc', 'dkim', 'x-ptr'], 'outlookcom': ['spf', 'dmarc', 'dkim'], 'mailru': ['spf', 'dmarc', 'dkim'], 'control-domainexample': ['dmarc', 'spf', 'dkim'], 'protonmailcom': ['dmarc', 'arc', 'spf', 'dkim'], 'yahoocom': ['spf', 'dmarc', 'dkim'], 'zohomaileu': ['spf', 'dmarc', 'dkim'], '163com': ['spf', 'dkim'], 'fastmailcom': ['arc', 'spf', 'iprev', 'bimi', 'dmarc', 'dkim', 'x-csa', 'x-me-sender', 'x-ptr'], 'interiapl': []}\n"
     ]
    }
   ],
   "source": [
    "from email import policy\n",
    "from email.parser import BytesParser\n",
    "import json\n",
    "import glob\n",
    "from authres import AuthenticationResultsHeader\n",
    "\n",
    "\n",
    "    \n",
    "def extract_email_info(email_path, esp):\n",
    "    with open(email_path, 'rb') as f:\n",
    "        email_rb = f.read()\n",
    "\n",
    "    msg = BytesParser(policy=policy.default).parsebytes(email_rb)\n",
    "    auth_info = set()\n",
    "  \n",
    "    for header_type in [\"Authentication-Results\", \"X-KLMS-AntiSpam-Auth\", \"X-DMARC-Verification\"]:   \n",
    "        for header in [x[1] for x in msg.items() if x[0] == header_type]:\n",
    "            full_headers = f'{header_type}:{header}'\n",
    "            auth_method = []\n",
    "            if header_type == \"Authentication-Results\":     \n",
    "                    # Microsoft is not respecting the RFC8601. The authserv-id is not provided\n",
    "                    # The issue has allready been reported \n",
    "                    # https://answers.microsoft.com/en-us/outlook_com/forum/all/authentication-results-header-written-by-outlook/890b304c-3c81-48b6-b065-36fad3b551e4                   \n",
    "                    if esp == \"outlookcom\": \n",
    "                        auth_method = ['spf', 'dmarc', 'dkim']       \n",
    "                    # Yahoo is not respecting the RFC8601 as there is an additional semi-column character at the end of the headers. Which is not allowed.\n",
    "                    # Thus, we remove the semi-column at the end\n",
    "                    elif esp == \"yahoocom\":\n",
    "                        parsed_auht_result = AuthenticationResultsHeader.parse(full_headers[:-1])\n",
    "                        auth_method = [result.method for result in parsed_auht_result.results]\n",
    "                    # 163 is not respecting the RFC8601 as the return \n",
    "                    # Thus, we remove the semi-column at the end\n",
    "                    elif esp == \"163com\":\n",
    "                        \n",
    "                        full_headers = full_headers.replace(\"\\n\", \"\").replace(\"\\t\", \"\")\n",
    "                        auth_method = auth_info.union(set([result.method for result in AuthenticationResultsHeader.parse(full_headers).results]))\n",
    "                    else:                        \n",
    "                        parsed_auth_result = AuthenticationResultsHeader.parse(full_headers)\n",
    "                        auth_method = [result.method for result in parsed_auth_result.results]\n",
    "  \n",
    "            elif header_type == \"Received-SPF\":\n",
    "                auth_method.append('spf')                \n",
    "            # inbox.lv does not have an Authentication-Results headers but \n",
    "            # a \"X-KLMS-AntiSpam-Auth\" that is very similar.\n",
    "            # We decided to add it manualy \n",
    "            # Same for rediff.com ! They do not have an Authentication-Results header\n",
    "            # but an X-DMARC-Verification:            \n",
    "            elif header_type == \"X-KLMS-AntiSpam-Auth\" or header_type == \"X-Spam-Status\" or header_type == \"X-DMARC-Verification\":               \n",
    "                for auth_protocol in [\"spf\", \"dkim\", \"dmarc\"]:\n",
    "                    if auth_protocol in header:\n",
    "                        auth_method.append(auth_protocol)\n",
    "            auth_info = auth_info.union(set(auth_method))            \n",
    "            \n",
    "    return esp, list(auth_info), email_path\n",
    "    \n",
    "result = [] \n",
    "\n",
    "\n",
    "for esp_folders in glob.glob(\"data/EmailReceived/*\"):\n",
    "    esp = esp_folders.split(\"/\")[-1]       \n",
    "    for email_path in glob.glob(f'{esp_folders}/*.eml'):\n",
    "        result.append(extract_email_info(email_path, esp))\n",
    "\n",
    "# Store all the information gathered\n",
    "'''with open(\"results/parsed_email_in_esp_inbox.json\", 'w') as fp:\n",
    "    json.dump(result, fp)'''\n",
    "    \n",
    "# Produce the data for the Table Generation.\n",
    "# For each ESP, which information are provided in the Authentication-Results header\n",
    "\n",
    "esp_auth_resuts_info = {}\n",
    "\n",
    "for r in result:\n",
    "    esp = r[0]\n",
    "    if esp not in esp_auth_resuts_info:\n",
    "        esp_auth_resuts_info[esp] = set(r[1])\n",
    "    diff_set = esp_auth_resuts_info[esp].difference(set(r[1]))\n",
    " \n",
    "    \n",
    "for k in esp_auth_resuts_info.keys():\n",
    "    esp_auth_resuts_info[k] = list(esp_auth_resuts_info[k])\n",
    "    \n",
    "print(esp_auth_resuts_info)\n"
   ]
  },
  {
   "cell_type": "markdown",
   "id": "4c2f584642135964",
   "metadata": {
    "collapsed": false
   },
   "source": [
    "## d) Extract information for DMARC aggregate report received"
   ]
  },
  {
   "cell_type": "code",
   "execution_count": 12,
   "id": "cc4f6bf40297176e",
   "metadata": {
    "collapsed": false,
    "execution": {
     "iopub.execute_input": "2024-07-09T13:30:30.450046Z",
     "iopub.status.busy": "2024-07-09T13:30:30.449924Z",
     "iopub.status.idle": "2024-07-09T13:30:30.494984Z",
     "shell.execute_reply": "2024-07-09T13:30:30.494646Z"
    },
    "ExecuteTime": {
     "end_time": "2024-07-10T16:44:04.016951430Z",
     "start_time": "2024-07-10T16:44:03.988622331Z"
    }
   },
   "outputs": [
    {
     "data": {
      "text/plain": "                                              subject  \\\n0   Report Domain: seznamcz.email-sender-3.example...   \n1   Report domain: control-domainexample.email-sen...   \n2   Report domain: gmailcom.email-sender-3.example...   \n3   Report Domain: outlookcom.email-sender-3.examp...   \n4   Report Domain: yahoocom.email-sender-2.example...   \n5   Report Domain: outlookcom.email-sender-1.examp...   \n6   Report domain: gmailcom.email-sender-1.example...   \n7   Report Domain: seznamcz.email-sender-1.example...   \n8   Report Domain: fastmailcom.email-sender-1.exam...   \n9   Report Domain: mailru.email-sender-1.example; ...   \n10  Report Domain: yahoocom.email-sender-1.example...   \n11  Report domain: gmailcom.email-sender-2.example...   \n12  Report Domain: yahoocom.email-sender-2.example...   \n13  Report Domain: fastmailcom.email-sender-2.exam...   \n14  Report Domain: seznamcz.email-sender-2.example...   \n15  Report Domain: mailru.email-sender-2.example; ...   \n16  Report Domain: email-sender-2.example Submitte...   \n17  Report Domain: outlookcom.email-sender-2.examp...   \n18  Report domain: gmailcom.email-sender-2.example...   \n19  Report Domain: fastmailcom.email-sender-4.exam...   \n20  Report Domain: seznamcz.email-sender-4.example...   \n21  Report domain: gmailcom.email-sender-4.example...   \n22  Report Domain: outlookcom.email-sender-4.examp...   \n23  Report Domain: yahoocom.email-sender-4.example...   \n24  Report Domain: mailru.email-sender-4.example; ...   \n\n                                   parsed_domain        parsed_submitter  \\\n0                seznamcz.email-sender-3.example               seznam.cz   \n1   control-domainexample.email-sender-3.example              google.com   \n2                gmailcom.email-sender-3.example              google.com   \n3              outlookcom.email-sender-3.example  protection.outlook.com   \n4                yahoocom.email-sender-2.example               yahoo.com   \n5              outlookcom.email-sender-1.example  protection.outlook.com   \n6                gmailcom.email-sender-1.example              google.com   \n7                seznamcz.email-sender-1.example               seznam.cz   \n8             fastmailcom.email-sender-1.example            fastmail.com   \n9                  mailru.email-sender-1.example                 mail.ru   \n10               yahoocom.email-sender-1.example               yahoo.com   \n11               gmailcom.email-sender-2.example              google.com   \n12               yahoocom.email-sender-2.example               yahoo.com   \n13            fastmailcom.email-sender-2.example            fastmail.com   \n14               seznamcz.email-sender-2.example               seznam.cz   \n15                 mailru.email-sender-2.example                 mail.ru   \n16                        email-sender-2.example               yahoo.com   \n17             outlookcom.email-sender-2.example  protection.outlook.com   \n18               gmailcom.email-sender-2.example              google.com   \n19            fastmailcom.email-sender-4.example            fastmail.com   \n20               seznamcz.email-sender-4.example               seznam.cz   \n21               gmailcom.email-sender-4.example              google.com   \n22             outlookcom.email-sender-4.example  protection.outlook.com   \n23               yahoocom.email-sender-4.example               yahoo.com   \n24                 mailru.email-sender-4.example                 mail.ru   \n\n                                  parsed_report_id  \\\n0   szn_seznamcz.email-sender-3.example-2023-09-25   \n1                             12320246433988280711   \n2                             13365075012726356696   \n3                 6cf08044894b4373817d086a63a527b8   \n4                              <1695691562.122520>   \n5                 99c8f8ef55e648718924195f0f2f3b41   \n6                             10338441280247014226   \n7   szn_seznamcz.email-sender-1.example-2023-09-25   \n8                             2023.09.25.983356728   \n9                    17381045686284013781695600000   \n10                               <1695690607.2868>   \n11                             6614913895802182513   \n12                             <1695691562.122520>   \n13                            2023.09.25.983376056   \n14  szn_seznamcz.email-sender-2.example-2023-09-25   \n15                   38065469610694679941695600000   \n16                             <1695689876.500509>   \n17                895073515d74482b9c17cac4965c237f   \n18                             6614913895802182513   \n19                            2023.09.25.983376368   \n20  szn_seznamcz.email-sender-4.example-2023-09-25   \n21                            10327855485683399229   \n22                763af27c9fee45ea8419779f7242d342   \n23                             <1695692135.724103>   \n24                   17258992469127586741695600000   \n\n                                               msg_to  \\\n0   anonymized_user@email-recevier-invalid-edv.exa...   \n1   anonymized_user@email-recevier-invalid-edv.exa...   \n2   anonymized_user@email-recevier-invalid-edv.exa...   \n3   anonymized_user@email-recevier-invalid-edv.exa...   \n4                          rua@control-domain.example   \n5               rua@outlookcom.email-sender-1.example   \n6                 rua@gmailcom.email-sender-1.example   \n7                 rua@seznamcz.email-sender-1.example   \n8              rua@fastmailcom.email-sender-1.example   \n9                   rua@mailru.email-sender-1.example   \n10                rua@yahoocom.email-sender-1.example   \n11                         rua@control-domain.example   \n12                         rua@control-domain.example   \n13                         rua@control-domain.example   \n14                         rua@control-domain.example   \n15                         rua@control-domain.example   \n16                    wrongRUA@control-domain.example   \n17                         rua@control-domain.example   \n18                         rua@control-domain.example   \n19    redirectionRUA@email-receiver-overwrite.example   \n20               rua@email-receiver-overwrite.example   \n21               rua@email-receiver-overwrite.example   \n22               rua@email-receiver-overwrite.example   \n23               rua@email-receiver-overwrite.example   \n24               rua@email-receiver-overwrite.example   \n\n                                             msg_from  \\\n0                       \"Seznam.cz\" <abuse@seznam.cz>   \n1                    noreply-dmarc-support@google.com   \n2                    noreply-dmarc-support@google.com   \n3   DMARC Aggregate Report <dmarcreport@microsoft....   \n4                             noreply@dmarc.yahoo.com   \n5   DMARC Aggregate Report <dmarcreport@microsoft....   \n6                    noreply-dmarc-support@google.com   \n7                       \"Seznam.cz\" <abuse@seznam.cz>   \n8                           reports@fastmaildmarc.com   \n9                          dmarc_support@corp.mail.ru   \n10                            noreply@dmarc.yahoo.com   \n11                   noreply-dmarc-support@google.com   \n12                            noreply@dmarc.yahoo.com   \n13                          reports@fastmaildmarc.com   \n14                      \"Seznam.cz\" <abuse@seznam.cz>   \n15                         dmarc_support@corp.mail.ru   \n16                            noreply@dmarc.yahoo.com   \n17  DMARC Aggregate Report <dmarcreport@microsoft....   \n18                   noreply-dmarc-support@google.com   \n19                          reports@fastmaildmarc.com   \n20                      \"Seznam.cz\" <abuse@seznam.cz>   \n21                   noreply-dmarc-support@google.com   \n22  DMARC Aggregate Report <dmarcreport@microsoft....   \n23                            noreply@dmarc.yahoo.com   \n24                         dmarc_support@corp.mail.ru   \n\n                        feature_domain       local_part     esp_label  \n0   email-recevier-invalid-edv.example  anonymized_user     seznam.cz  \n1   email-recevier-invalid-edv.example  anonymized_user     gmail.com  \n2   email-recevier-invalid-edv.example  anonymized_user     gmail.com  \n3   email-recevier-invalid-edv.example  anonymized_user   outlook.com  \n4   email-recevier-invalid-edv.example              rua     yahoo.com  \n5               email-sender-1.example              rua   outlook.com  \n6               email-sender-1.example              rua     gmail.com  \n7               email-sender-1.example              rua     seznam.cz  \n8               email-sender-1.example              rua  fastmail.com  \n9               email-sender-1.example              rua       mail.ru  \n10              email-sender-1.example              rua     yahoo.com  \n11              control-domain.example              rua     gmail.com  \n12              control-domain.example              rua     yahoo.com  \n13              control-domain.example              rua  fastmail.com  \n14              control-domain.example              rua     seznam.cz  \n15              control-domain.example              rua       mail.ru  \n16              control-domain.example         wrongRUA     yahoo.com  \n17              control-domain.example              rua   outlook.com  \n18              control-domain.example              rua     gmail.com  \n19    email-receiver-overwrite.example   redirectionRUA  fastmail.com  \n20    email-receiver-overwrite.example              rua     seznam.cz  \n21    email-receiver-overwrite.example              rua     gmail.com  \n22    email-receiver-overwrite.example              rua   outlook.com  \n23    email-receiver-overwrite.example              rua     yahoo.com  \n24    email-receiver-overwrite.example              rua       mail.ru  ",
      "text/html": "<div>\n<style scoped>\n    .dataframe tbody tr th:only-of-type {\n        vertical-align: middle;\n    }\n\n    .dataframe tbody tr th {\n        vertical-align: top;\n    }\n\n    .dataframe thead th {\n        text-align: right;\n    }\n</style>\n<table border=\"1\" class=\"dataframe\">\n  <thead>\n    <tr style=\"text-align: right;\">\n      <th></th>\n      <th>subject</th>\n      <th>parsed_domain</th>\n      <th>parsed_submitter</th>\n      <th>parsed_report_id</th>\n      <th>msg_to</th>\n      <th>msg_from</th>\n      <th>feature_domain</th>\n      <th>local_part</th>\n      <th>esp_label</th>\n    </tr>\n  </thead>\n  <tbody>\n    <tr>\n      <th>0</th>\n      <td>Report Domain: seznamcz.email-sender-3.example...</td>\n      <td>seznamcz.email-sender-3.example</td>\n      <td>seznam.cz</td>\n      <td>szn_seznamcz.email-sender-3.example-2023-09-25</td>\n      <td>anonymized_user@email-recevier-invalid-edv.exa...</td>\n      <td>\"Seznam.cz\" &lt;abuse@seznam.cz&gt;</td>\n      <td>email-recevier-invalid-edv.example</td>\n      <td>anonymized_user</td>\n      <td>seznam.cz</td>\n    </tr>\n    <tr>\n      <th>1</th>\n      <td>Report domain: control-domainexample.email-sen...</td>\n      <td>control-domainexample.email-sender-3.example</td>\n      <td>google.com</td>\n      <td>12320246433988280711</td>\n      <td>anonymized_user@email-recevier-invalid-edv.exa...</td>\n      <td>noreply-dmarc-support@google.com</td>\n      <td>email-recevier-invalid-edv.example</td>\n      <td>anonymized_user</td>\n      <td>gmail.com</td>\n    </tr>\n    <tr>\n      <th>2</th>\n      <td>Report domain: gmailcom.email-sender-3.example...</td>\n      <td>gmailcom.email-sender-3.example</td>\n      <td>google.com</td>\n      <td>13365075012726356696</td>\n      <td>anonymized_user@email-recevier-invalid-edv.exa...</td>\n      <td>noreply-dmarc-support@google.com</td>\n      <td>email-recevier-invalid-edv.example</td>\n      <td>anonymized_user</td>\n      <td>gmail.com</td>\n    </tr>\n    <tr>\n      <th>3</th>\n      <td>Report Domain: outlookcom.email-sender-3.examp...</td>\n      <td>outlookcom.email-sender-3.example</td>\n      <td>protection.outlook.com</td>\n      <td>6cf08044894b4373817d086a63a527b8</td>\n      <td>anonymized_user@email-recevier-invalid-edv.exa...</td>\n      <td>DMARC Aggregate Report &lt;dmarcreport@microsoft....</td>\n      <td>email-recevier-invalid-edv.example</td>\n      <td>anonymized_user</td>\n      <td>outlook.com</td>\n    </tr>\n    <tr>\n      <th>4</th>\n      <td>Report Domain: yahoocom.email-sender-2.example...</td>\n      <td>yahoocom.email-sender-2.example</td>\n      <td>yahoo.com</td>\n      <td>&lt;1695691562.122520&gt;</td>\n      <td>rua@control-domain.example</td>\n      <td>noreply@dmarc.yahoo.com</td>\n      <td>email-recevier-invalid-edv.example</td>\n      <td>rua</td>\n      <td>yahoo.com</td>\n    </tr>\n    <tr>\n      <th>5</th>\n      <td>Report Domain: outlookcom.email-sender-1.examp...</td>\n      <td>outlookcom.email-sender-1.example</td>\n      <td>protection.outlook.com</td>\n      <td>99c8f8ef55e648718924195f0f2f3b41</td>\n      <td>rua@outlookcom.email-sender-1.example</td>\n      <td>DMARC Aggregate Report &lt;dmarcreport@microsoft....</td>\n      <td>email-sender-1.example</td>\n      <td>rua</td>\n      <td>outlook.com</td>\n    </tr>\n    <tr>\n      <th>6</th>\n      <td>Report domain: gmailcom.email-sender-1.example...</td>\n      <td>gmailcom.email-sender-1.example</td>\n      <td>google.com</td>\n      <td>10338441280247014226</td>\n      <td>rua@gmailcom.email-sender-1.example</td>\n      <td>noreply-dmarc-support@google.com</td>\n      <td>email-sender-1.example</td>\n      <td>rua</td>\n      <td>gmail.com</td>\n    </tr>\n    <tr>\n      <th>7</th>\n      <td>Report Domain: seznamcz.email-sender-1.example...</td>\n      <td>seznamcz.email-sender-1.example</td>\n      <td>seznam.cz</td>\n      <td>szn_seznamcz.email-sender-1.example-2023-09-25</td>\n      <td>rua@seznamcz.email-sender-1.example</td>\n      <td>\"Seznam.cz\" &lt;abuse@seznam.cz&gt;</td>\n      <td>email-sender-1.example</td>\n      <td>rua</td>\n      <td>seznam.cz</td>\n    </tr>\n    <tr>\n      <th>8</th>\n      <td>Report Domain: fastmailcom.email-sender-1.exam...</td>\n      <td>fastmailcom.email-sender-1.example</td>\n      <td>fastmail.com</td>\n      <td>2023.09.25.983356728</td>\n      <td>rua@fastmailcom.email-sender-1.example</td>\n      <td>reports@fastmaildmarc.com</td>\n      <td>email-sender-1.example</td>\n      <td>rua</td>\n      <td>fastmail.com</td>\n    </tr>\n    <tr>\n      <th>9</th>\n      <td>Report Domain: mailru.email-sender-1.example; ...</td>\n      <td>mailru.email-sender-1.example</td>\n      <td>mail.ru</td>\n      <td>17381045686284013781695600000</td>\n      <td>rua@mailru.email-sender-1.example</td>\n      <td>dmarc_support@corp.mail.ru</td>\n      <td>email-sender-1.example</td>\n      <td>rua</td>\n      <td>mail.ru</td>\n    </tr>\n    <tr>\n      <th>10</th>\n      <td>Report Domain: yahoocom.email-sender-1.example...</td>\n      <td>yahoocom.email-sender-1.example</td>\n      <td>yahoo.com</td>\n      <td>&lt;1695690607.2868&gt;</td>\n      <td>rua@yahoocom.email-sender-1.example</td>\n      <td>noreply@dmarc.yahoo.com</td>\n      <td>email-sender-1.example</td>\n      <td>rua</td>\n      <td>yahoo.com</td>\n    </tr>\n    <tr>\n      <th>11</th>\n      <td>Report domain: gmailcom.email-sender-2.example...</td>\n      <td>gmailcom.email-sender-2.example</td>\n      <td>google.com</td>\n      <td>6614913895802182513</td>\n      <td>rua@control-domain.example</td>\n      <td>noreply-dmarc-support@google.com</td>\n      <td>control-domain.example</td>\n      <td>rua</td>\n      <td>gmail.com</td>\n    </tr>\n    <tr>\n      <th>12</th>\n      <td>Report Domain: yahoocom.email-sender-2.example...</td>\n      <td>yahoocom.email-sender-2.example</td>\n      <td>yahoo.com</td>\n      <td>&lt;1695691562.122520&gt;</td>\n      <td>rua@control-domain.example</td>\n      <td>noreply@dmarc.yahoo.com</td>\n      <td>control-domain.example</td>\n      <td>rua</td>\n      <td>yahoo.com</td>\n    </tr>\n    <tr>\n      <th>13</th>\n      <td>Report Domain: fastmailcom.email-sender-2.exam...</td>\n      <td>fastmailcom.email-sender-2.example</td>\n      <td>fastmail.com</td>\n      <td>2023.09.25.983376056</td>\n      <td>rua@control-domain.example</td>\n      <td>reports@fastmaildmarc.com</td>\n      <td>control-domain.example</td>\n      <td>rua</td>\n      <td>fastmail.com</td>\n    </tr>\n    <tr>\n      <th>14</th>\n      <td>Report Domain: seznamcz.email-sender-2.example...</td>\n      <td>seznamcz.email-sender-2.example</td>\n      <td>seznam.cz</td>\n      <td>szn_seznamcz.email-sender-2.example-2023-09-25</td>\n      <td>rua@control-domain.example</td>\n      <td>\"Seznam.cz\" &lt;abuse@seznam.cz&gt;</td>\n      <td>control-domain.example</td>\n      <td>rua</td>\n      <td>seznam.cz</td>\n    </tr>\n    <tr>\n      <th>15</th>\n      <td>Report Domain: mailru.email-sender-2.example; ...</td>\n      <td>mailru.email-sender-2.example</td>\n      <td>mail.ru</td>\n      <td>38065469610694679941695600000</td>\n      <td>rua@control-domain.example</td>\n      <td>dmarc_support@corp.mail.ru</td>\n      <td>control-domain.example</td>\n      <td>rua</td>\n      <td>mail.ru</td>\n    </tr>\n    <tr>\n      <th>16</th>\n      <td>Report Domain: email-sender-2.example Submitte...</td>\n      <td>email-sender-2.example</td>\n      <td>yahoo.com</td>\n      <td>&lt;1695689876.500509&gt;</td>\n      <td>wrongRUA@control-domain.example</td>\n      <td>noreply@dmarc.yahoo.com</td>\n      <td>control-domain.example</td>\n      <td>wrongRUA</td>\n      <td>yahoo.com</td>\n    </tr>\n    <tr>\n      <th>17</th>\n      <td>Report Domain: outlookcom.email-sender-2.examp...</td>\n      <td>outlookcom.email-sender-2.example</td>\n      <td>protection.outlook.com</td>\n      <td>895073515d74482b9c17cac4965c237f</td>\n      <td>rua@control-domain.example</td>\n      <td>DMARC Aggregate Report &lt;dmarcreport@microsoft....</td>\n      <td>control-domain.example</td>\n      <td>rua</td>\n      <td>outlook.com</td>\n    </tr>\n    <tr>\n      <th>18</th>\n      <td>Report domain: gmailcom.email-sender-2.example...</td>\n      <td>gmailcom.email-sender-2.example</td>\n      <td>google.com</td>\n      <td>6614913895802182513</td>\n      <td>rua@control-domain.example</td>\n      <td>noreply-dmarc-support@google.com</td>\n      <td>control-domain.example</td>\n      <td>rua</td>\n      <td>gmail.com</td>\n    </tr>\n    <tr>\n      <th>19</th>\n      <td>Report Domain: fastmailcom.email-sender-4.exam...</td>\n      <td>fastmailcom.email-sender-4.example</td>\n      <td>fastmail.com</td>\n      <td>2023.09.25.983376368</td>\n      <td>redirectionRUA@email-receiver-overwrite.example</td>\n      <td>reports@fastmaildmarc.com</td>\n      <td>email-receiver-overwrite.example</td>\n      <td>redirectionRUA</td>\n      <td>fastmail.com</td>\n    </tr>\n    <tr>\n      <th>20</th>\n      <td>Report Domain: seznamcz.email-sender-4.example...</td>\n      <td>seznamcz.email-sender-4.example</td>\n      <td>seznam.cz</td>\n      <td>szn_seznamcz.email-sender-4.example-2023-09-25</td>\n      <td>rua@email-receiver-overwrite.example</td>\n      <td>\"Seznam.cz\" &lt;abuse@seznam.cz&gt;</td>\n      <td>email-receiver-overwrite.example</td>\n      <td>rua</td>\n      <td>seznam.cz</td>\n    </tr>\n    <tr>\n      <th>21</th>\n      <td>Report domain: gmailcom.email-sender-4.example...</td>\n      <td>gmailcom.email-sender-4.example</td>\n      <td>google.com</td>\n      <td>10327855485683399229</td>\n      <td>rua@email-receiver-overwrite.example</td>\n      <td>noreply-dmarc-support@google.com</td>\n      <td>email-receiver-overwrite.example</td>\n      <td>rua</td>\n      <td>gmail.com</td>\n    </tr>\n    <tr>\n      <th>22</th>\n      <td>Report Domain: outlookcom.email-sender-4.examp...</td>\n      <td>outlookcom.email-sender-4.example</td>\n      <td>protection.outlook.com</td>\n      <td>763af27c9fee45ea8419779f7242d342</td>\n      <td>rua@email-receiver-overwrite.example</td>\n      <td>DMARC Aggregate Report &lt;dmarcreport@microsoft....</td>\n      <td>email-receiver-overwrite.example</td>\n      <td>rua</td>\n      <td>outlook.com</td>\n    </tr>\n    <tr>\n      <th>23</th>\n      <td>Report Domain: yahoocom.email-sender-4.example...</td>\n      <td>yahoocom.email-sender-4.example</td>\n      <td>yahoo.com</td>\n      <td>&lt;1695692135.724103&gt;</td>\n      <td>rua@email-receiver-overwrite.example</td>\n      <td>noreply@dmarc.yahoo.com</td>\n      <td>email-receiver-overwrite.example</td>\n      <td>rua</td>\n      <td>yahoo.com</td>\n    </tr>\n    <tr>\n      <th>24</th>\n      <td>Report Domain: mailru.email-sender-4.example; ...</td>\n      <td>mailru.email-sender-4.example</td>\n      <td>mail.ru</td>\n      <td>17258992469127586741695600000</td>\n      <td>rua@email-receiver-overwrite.example</td>\n      <td>dmarc_support@corp.mail.ru</td>\n      <td>email-receiver-overwrite.example</td>\n      <td>rua</td>\n      <td>mail.ru</td>\n    </tr>\n  </tbody>\n</table>\n</div>"
     },
     "execution_count": 12,
     "metadata": {},
     "output_type": "execute_result"
    }
   ],
   "source": [
    "import re \n",
    "from email import policy\n",
    "from email.parser import BytesParser\n",
    "\n",
    "regex_rule = re.compile(\"domain:([\\s]*[^\\s]+).*submitter:([\\s]*[^\\s]+).*Report-ID:([\\s]*[^\\s]+)\", re.IGNORECASE) \n",
    "\n",
    "def get_dmarc_report_subject_info(subject):\n",
    "    # Lowercase the subject \n",
    "    email_subject = subject.lower()\n",
    "    # remove the following characters: [{, }, ;],\n",
    "    email_subject = email_subject.replace(\"{\", \"\").replace(\"}\", \"\").replace(\";\", \"\")\n",
    "    # replace the tab character (\\t) by a whitespace\n",
    "    email_subject = email_subject.replace(\"\\t\", \" \")\n",
    "    ''' use the following regular expression: : https://regex101.com/r/2VDIyo/2\n",
    "    domain:([\\s]*[^\\s]+).*submitter:([\\s]*[^\\s]+).*  report-id:([\\s]*[^\\s]+) '''\n",
    "    \n",
    "    res = regex_rule.findall(email_subject)\n",
    "    \n",
    "    return [{\"domain\":match[0].strip(), \"submitter\": match[1].strip(), \"report-id\":match[2].strip()}  for match in res]\n",
    "\n",
    "# Return the measured ESP If submitter is within an organization \n",
    "# and the submitter domain name does not correspond to the measured ESP\n",
    "# e.g: gmail.com report as 'google.com' submitter\n",
    "def esp_name_from_submitter_info(submitter):\n",
    "    return {\"protection.outlook.com\": 'outlook.com', 'google.com': 'gmail.com'}.get(submitter, submitter)\n",
    "\n",
    "\n",
    "def extract_information_from_email(email_path):\n",
    "    with open(email_path, 'rb') as fp:\n",
    "        email_rb = fp.read()\n",
    "        msg = BytesParser(policy=policy.default).parsebytes(email_rb)\n",
    "        email_subject = msg.get(\"subject\")\n",
    "        parsed_dmarc_report_info = get_dmarc_report_subject_info(email_subject)[0]\n",
    "        msg_to = msg.get(\"to\")\n",
    "        msg_from = msg.get(\"from\")\n",
    "    \n",
    "        return {\"subject\": email_subject, \n",
    "                    \"parsed_domain\": parsed_dmarc_report_info[\"domain\"],\n",
    "                    \"parsed_submitter\": parsed_dmarc_report_info[\"submitter\"],\n",
    "                    \"parsed_report_id\":parsed_dmarc_report_info[\"report-id\"],\n",
    "                    \"msg_to\":msg_to, \n",
    "                    \"msg_from\":msg_from,\n",
    "                    \"feature_domain\":features.split(\"@\")[-1],\n",
    "                    \"local_part\":msg_to.split(\"@\")[0]}\n",
    "    \n",
    "res = []\n",
    "directories = []\n",
    "\n",
    "for dir in glob.glob(\"data/ReportReceived/*\"):\n",
    "    directories.append({\"path\":dir, \"domain\": dir.split(\"@\")[-1]})\n",
    "\n",
    "for features in [x[\"path\"] for x in directories]:\n",
    "    for file in glob.glob(f'{features}/*') :         \n",
    "        res.append(extract_information_from_email(file))\n",
    "\n",
    "df = pd.DataFrame(res)\n",
    "df[\"esp_label\"] = df[\"parsed_submitter\"].apply(lambda x: esp_name_from_submitter_info(x) )\n",
    "\n",
    "df\n"
   ]
  },
  {
   "cell_type": "markdown",
   "id": "787f7e2fcc508aee",
   "metadata": {
    "collapsed": false
   },
   "source": [
    "## e) Generate the result analysis from DMARC aggregate report data extracted previously"
   ]
  },
  {
   "cell_type": "code",
   "execution_count": 13,
   "id": "26c28317ccd738ca",
   "metadata": {
    "collapsed": false,
    "execution": {
     "iopub.execute_input": "2024-07-09T13:30:30.496471Z",
     "iopub.status.busy": "2024-07-09T13:30:30.496371Z",
     "iopub.status.idle": "2024-07-09T13:30:30.502089Z",
     "shell.execute_reply": "2024-07-09T13:30:30.501819Z"
    },
    "ExecuteTime": {
     "end_time": "2024-07-10T16:44:04.063553262Z",
     "start_time": "2024-07-10T16:44:04.023116373Z"
    }
   },
   "outputs": [
    {
     "name": "stdout",
     "output_type": "stream",
     "text": [
      "{'esp_sending_rua': ['outlook.com', 'gmail.com', 'seznam.cz', 'fastmail.com', 'mail.ru', 'yahoo.com'], 'esp_sending_ruf': [], 'esp_sending_rua_edv_succeed': ['gmail.com', 'yahoo.com', 'fastmail.com', 'seznam.cz', 'mail.ru', 'outlook.com'], 'esp_sending_rua_edv_failed': ['seznam.cz', 'gmail.com', 'outlook.com', 'yahoo.com'], 'edv_rewritting_rua': ['fastmail.com']}\n"
     ]
    }
   ],
   "source": [
    "are_sending_rua = df[df.feature_domain == \"email-sender-1.example\"][\"esp_label\"][df[\"local_part\"] == \"rua\"].drop_duplicates()\n",
    "are_sending_ruf = df[df.feature_domain == \"email-sender-1.example\"][\"esp_label\"][df[\"local_part\"] == \"ruf\"].drop_duplicates()\n",
    "have_received_rua_when_edv_fails = df[df.feature_domain == \"email-recevier-invalid-edv.example\"][\"esp_label\"].drop_duplicates()\n",
    "have_received_rua_external_edv_succeed = df[df.feature_domain == \"control-domain.example\"][\"esp_label\"].drop_duplicates()\n",
    "have_received_rua_external_edv_overwrite= df[df.feature_domain == \"email-receiver-overwrite.example\"][df.msg_to == \"redirectionRUA@email-receiver-overwrite.example\"][\"esp_label\"].drop_duplicates()\n",
    "\n",
    "features_evaluation = {\"esp_sending_rua\": list(are_sending_rua),\n",
    "                    \"esp_sending_ruf\": list(are_sending_ruf),\n",
    "       \"esp_sending_rua_edv_succeed\": list(have_received_rua_external_edv_succeed),\n",
    "       \"esp_sending_rua_edv_failed\": list(have_received_rua_when_edv_fails),\n",
    "       \"edv_rewritting_rua\": list(have_received_rua_external_edv_overwrite)\n",
    "       }\n",
    "\n",
    "print(features_evaluation)\n",
    "\n",
    "\n",
    "\n",
    "\n"
   ]
  },
  {
   "cell_type": "markdown",
   "source": [
    "# 2) Create LaTeX table from the previously extracted data"
   ],
   "metadata": {
    "collapsed": false
   },
   "id": "6f0f205b64459991"
  },
  {
   "cell_type": "markdown",
   "source": [
    "## a) Create our table index from rspamd extracted data"
   ],
   "metadata": {
    "collapsed": false
   },
   "id": "b2c885caaf1b356a"
  },
  {
   "cell_type": "code",
   "execution_count": 14,
   "outputs": [
    {
     "data": {
      "text/plain": "          esp_name      esp_label\n12     zohomail.eu     zohomaileu\n13      yandex.com      yandexcom\n14       yahoo.com       yahoocom\n15       seznam.cz       seznamcz\n16         sapo.pt         sapopt\n17      rediff.com      rediffcom\n18  protonmail.com  protonmailcom\n19       orange.fr       orangefr\n20           op.pl           oppl\n21   mailfence.com   mailfencecom\n22        mail.com        mailcom\n23     laposte.net     lapostenet\n24    kolabnow.com    kolabnowcom\n25      interia.pl      interiapl\n26        inbox.lv        inboxlv\n27         hey.com         heycom\n28     freemail.hu     freemailhu\n29         163.com         163com\n31    tutanota.com    tutanotacom\n32         gmx.net         gmxnet\n33     outlook.com     outlookcom\n34       naver.com       navercom\n35       gmail.com       gmailcom\n36    fastmail.com    fastmailcom\n37         mail.ru         mailru",
      "text/html": "<div>\n<style scoped>\n    .dataframe tbody tr th:only-of-type {\n        vertical-align: middle;\n    }\n\n    .dataframe tbody tr th {\n        vertical-align: top;\n    }\n\n    .dataframe thead th {\n        text-align: right;\n    }\n</style>\n<table border=\"1\" class=\"dataframe\">\n  <thead>\n    <tr style=\"text-align: right;\">\n      <th></th>\n      <th>esp_name</th>\n      <th>esp_label</th>\n    </tr>\n  </thead>\n  <tbody>\n    <tr>\n      <th>12</th>\n      <td>zohomail.eu</td>\n      <td>zohomaileu</td>\n    </tr>\n    <tr>\n      <th>13</th>\n      <td>yandex.com</td>\n      <td>yandexcom</td>\n    </tr>\n    <tr>\n      <th>14</th>\n      <td>yahoo.com</td>\n      <td>yahoocom</td>\n    </tr>\n    <tr>\n      <th>15</th>\n      <td>seznam.cz</td>\n      <td>seznamcz</td>\n    </tr>\n    <tr>\n      <th>16</th>\n      <td>sapo.pt</td>\n      <td>sapopt</td>\n    </tr>\n    <tr>\n      <th>17</th>\n      <td>rediff.com</td>\n      <td>rediffcom</td>\n    </tr>\n    <tr>\n      <th>18</th>\n      <td>protonmail.com</td>\n      <td>protonmailcom</td>\n    </tr>\n    <tr>\n      <th>19</th>\n      <td>orange.fr</td>\n      <td>orangefr</td>\n    </tr>\n    <tr>\n      <th>20</th>\n      <td>op.pl</td>\n      <td>oppl</td>\n    </tr>\n    <tr>\n      <th>21</th>\n      <td>mailfence.com</td>\n      <td>mailfencecom</td>\n    </tr>\n    <tr>\n      <th>22</th>\n      <td>mail.com</td>\n      <td>mailcom</td>\n    </tr>\n    <tr>\n      <th>23</th>\n      <td>laposte.net</td>\n      <td>lapostenet</td>\n    </tr>\n    <tr>\n      <th>24</th>\n      <td>kolabnow.com</td>\n      <td>kolabnowcom</td>\n    </tr>\n    <tr>\n      <th>25</th>\n      <td>interia.pl</td>\n      <td>interiapl</td>\n    </tr>\n    <tr>\n      <th>26</th>\n      <td>inbox.lv</td>\n      <td>inboxlv</td>\n    </tr>\n    <tr>\n      <th>27</th>\n      <td>hey.com</td>\n      <td>heycom</td>\n    </tr>\n    <tr>\n      <th>28</th>\n      <td>freemail.hu</td>\n      <td>freemailhu</td>\n    </tr>\n    <tr>\n      <th>29</th>\n      <td>163.com</td>\n      <td>163com</td>\n    </tr>\n    <tr>\n      <th>31</th>\n      <td>tutanota.com</td>\n      <td>tutanotacom</td>\n    </tr>\n    <tr>\n      <th>32</th>\n      <td>gmx.net</td>\n      <td>gmxnet</td>\n    </tr>\n    <tr>\n      <th>33</th>\n      <td>outlook.com</td>\n      <td>outlookcom</td>\n    </tr>\n    <tr>\n      <th>34</th>\n      <td>naver.com</td>\n      <td>navercom</td>\n    </tr>\n    <tr>\n      <th>35</th>\n      <td>gmail.com</td>\n      <td>gmailcom</td>\n    </tr>\n    <tr>\n      <th>36</th>\n      <td>fastmail.com</td>\n      <td>fastmailcom</td>\n    </tr>\n    <tr>\n      <th>37</th>\n      <td>mail.ru</td>\n      <td>mailru</td>\n    </tr>\n  </tbody>\n</table>\n</div>"
     },
     "execution_count": 14,
     "metadata": {},
     "output_type": "execute_result"
    }
   ],
   "source": [
    "df = rspamd_dataframe[[\"email_sent_to\", 'targeted_esp']].drop_duplicates()\n",
    "# Remove the test-control domain\n",
    "df = df[df[\"email_sent_to\"] != \"control-domain.example\" ]\n",
    "# Rename collumns\n",
    "df = df.rename(columns={\"email_sent_to\": \"esp_name\", \"targeted_esp\": \"esp_label\"})\n",
    "df"
   ],
   "metadata": {
    "collapsed": false,
    "ExecuteTime": {
     "end_time": "2024-07-10T16:44:04.064367040Z",
     "start_time": "2024-07-10T16:44:04.045983184Z"
    }
   },
   "id": "2a93a4da57cafaaf"
  },
  {
   "cell_type": "markdown",
   "source": [
    "## b) Join the DNS data database "
   ],
   "metadata": {
    "collapsed": false
   },
   "id": "4ac59b12c347e2a8"
  },
  {
   "cell_type": "code",
   "execution_count": 15,
   "outputs": [
    {
     "data": {
      "text/plain": "                     esp_name  SPF_txt  SPF_exsit  DKIM_txt  DMARC_txt  \\\nesp_label                                                                \nzohomaileu        zohomail.eu     True       True      True       True   \nyandexcom          yandex.com     True      False      True       True   \nyahoocom            yahoo.com     True       True      True       True   \nseznamcz            seznam.cz     True       True      True       True   \nsapopt                sapo.pt     True       True      True       True   \nrediffcom          rediff.com     True       True      True       True   \nprotonmailcom  protonmail.com     True       True      True       True   \norangefr            orange.fr     True       True      True       True   \noppl                    op.pl     True       True      True       True   \nmailfencecom    mailfence.com     True       True      True       True   \nmailcom              mail.com     True       True      True       True   \nlapostenet        laposte.net     True       True      True       True   \nkolabnowcom      kolabnow.com     True       True      True      False   \ninteriapl          interia.pl     True       True      True       True   \ninboxlv              inbox.lv     True       True      True       True   \nheycom                hey.com     True       True      True       True   \nfreemailhu        freemail.hu    False      False     False      False   \n163com                163.com     True      False      True       True   \ntutanotacom      tutanota.com     True       True      True       True   \ngmxnet                gmx.net     True       True      True       True   \noutlookcom        outlook.com     True       True      True       True   \nnavercom            naver.com     True       True      True       True   \ngmailcom            gmail.com     True       True      True       True   \nfastmailcom      fastmail.com     True       True      True       True   \nmailru                mail.ru     True       True      True       True   \n\n               EDV_process  \nesp_label                   \nzohomaileu           False  \nyandexcom            False  \nyahoocom              True  \nseznamcz             False  \nsapopt               False  \nrediffcom            False  \nprotonmailcom        False  \norangefr             False  \noppl                  True  \nmailfencecom         False  \nmailcom              False  \nlapostenet            True  \nkolabnowcom          False  \ninteriapl            False  \ninboxlv              False  \nheycom               False  \nfreemailhu           False  \n163com               False  \ntutanotacom          False  \ngmxnet               False  \noutlookcom           False  \nnavercom             False  \ngmailcom             False  \nfastmailcom           True  \nmailru                True  ",
      "text/html": "<div>\n<style scoped>\n    .dataframe tbody tr th:only-of-type {\n        vertical-align: middle;\n    }\n\n    .dataframe tbody tr th {\n        vertical-align: top;\n    }\n\n    .dataframe thead th {\n        text-align: right;\n    }\n</style>\n<table border=\"1\" class=\"dataframe\">\n  <thead>\n    <tr style=\"text-align: right;\">\n      <th></th>\n      <th>esp_name</th>\n      <th>SPF_txt</th>\n      <th>SPF_exsit</th>\n      <th>DKIM_txt</th>\n      <th>DMARC_txt</th>\n      <th>EDV_process</th>\n    </tr>\n    <tr>\n      <th>esp_label</th>\n      <th></th>\n      <th></th>\n      <th></th>\n      <th></th>\n      <th></th>\n      <th></th>\n    </tr>\n  </thead>\n  <tbody>\n    <tr>\n      <th>zohomaileu</th>\n      <td>zohomail.eu</td>\n      <td>True</td>\n      <td>True</td>\n      <td>True</td>\n      <td>True</td>\n      <td>False</td>\n    </tr>\n    <tr>\n      <th>yandexcom</th>\n      <td>yandex.com</td>\n      <td>True</td>\n      <td>False</td>\n      <td>True</td>\n      <td>True</td>\n      <td>False</td>\n    </tr>\n    <tr>\n      <th>yahoocom</th>\n      <td>yahoo.com</td>\n      <td>True</td>\n      <td>True</td>\n      <td>True</td>\n      <td>True</td>\n      <td>True</td>\n    </tr>\n    <tr>\n      <th>seznamcz</th>\n      <td>seznam.cz</td>\n      <td>True</td>\n      <td>True</td>\n      <td>True</td>\n      <td>True</td>\n      <td>False</td>\n    </tr>\n    <tr>\n      <th>sapopt</th>\n      <td>sapo.pt</td>\n      <td>True</td>\n      <td>True</td>\n      <td>True</td>\n      <td>True</td>\n      <td>False</td>\n    </tr>\n    <tr>\n      <th>rediffcom</th>\n      <td>rediff.com</td>\n      <td>True</td>\n      <td>True</td>\n      <td>True</td>\n      <td>True</td>\n      <td>False</td>\n    </tr>\n    <tr>\n      <th>protonmailcom</th>\n      <td>protonmail.com</td>\n      <td>True</td>\n      <td>True</td>\n      <td>True</td>\n      <td>True</td>\n      <td>False</td>\n    </tr>\n    <tr>\n      <th>orangefr</th>\n      <td>orange.fr</td>\n      <td>True</td>\n      <td>True</td>\n      <td>True</td>\n      <td>True</td>\n      <td>False</td>\n    </tr>\n    <tr>\n      <th>oppl</th>\n      <td>op.pl</td>\n      <td>True</td>\n      <td>True</td>\n      <td>True</td>\n      <td>True</td>\n      <td>True</td>\n    </tr>\n    <tr>\n      <th>mailfencecom</th>\n      <td>mailfence.com</td>\n      <td>True</td>\n      <td>True</td>\n      <td>True</td>\n      <td>True</td>\n      <td>False</td>\n    </tr>\n    <tr>\n      <th>mailcom</th>\n      <td>mail.com</td>\n      <td>True</td>\n      <td>True</td>\n      <td>True</td>\n      <td>True</td>\n      <td>False</td>\n    </tr>\n    <tr>\n      <th>lapostenet</th>\n      <td>laposte.net</td>\n      <td>True</td>\n      <td>True</td>\n      <td>True</td>\n      <td>True</td>\n      <td>True</td>\n    </tr>\n    <tr>\n      <th>kolabnowcom</th>\n      <td>kolabnow.com</td>\n      <td>True</td>\n      <td>True</td>\n      <td>True</td>\n      <td>False</td>\n      <td>False</td>\n    </tr>\n    <tr>\n      <th>interiapl</th>\n      <td>interia.pl</td>\n      <td>True</td>\n      <td>True</td>\n      <td>True</td>\n      <td>True</td>\n      <td>False</td>\n    </tr>\n    <tr>\n      <th>inboxlv</th>\n      <td>inbox.lv</td>\n      <td>True</td>\n      <td>True</td>\n      <td>True</td>\n      <td>True</td>\n      <td>False</td>\n    </tr>\n    <tr>\n      <th>heycom</th>\n      <td>hey.com</td>\n      <td>True</td>\n      <td>True</td>\n      <td>True</td>\n      <td>True</td>\n      <td>False</td>\n    </tr>\n    <tr>\n      <th>freemailhu</th>\n      <td>freemail.hu</td>\n      <td>False</td>\n      <td>False</td>\n      <td>False</td>\n      <td>False</td>\n      <td>False</td>\n    </tr>\n    <tr>\n      <th>163com</th>\n      <td>163.com</td>\n      <td>True</td>\n      <td>False</td>\n      <td>True</td>\n      <td>True</td>\n      <td>False</td>\n    </tr>\n    <tr>\n      <th>tutanotacom</th>\n      <td>tutanota.com</td>\n      <td>True</td>\n      <td>True</td>\n      <td>True</td>\n      <td>True</td>\n      <td>False</td>\n    </tr>\n    <tr>\n      <th>gmxnet</th>\n      <td>gmx.net</td>\n      <td>True</td>\n      <td>True</td>\n      <td>True</td>\n      <td>True</td>\n      <td>False</td>\n    </tr>\n    <tr>\n      <th>outlookcom</th>\n      <td>outlook.com</td>\n      <td>True</td>\n      <td>True</td>\n      <td>True</td>\n      <td>True</td>\n      <td>False</td>\n    </tr>\n    <tr>\n      <th>navercom</th>\n      <td>naver.com</td>\n      <td>True</td>\n      <td>True</td>\n      <td>True</td>\n      <td>True</td>\n      <td>False</td>\n    </tr>\n    <tr>\n      <th>gmailcom</th>\n      <td>gmail.com</td>\n      <td>True</td>\n      <td>True</td>\n      <td>True</td>\n      <td>True</td>\n      <td>False</td>\n    </tr>\n    <tr>\n      <th>fastmailcom</th>\n      <td>fastmail.com</td>\n      <td>True</td>\n      <td>True</td>\n      <td>True</td>\n      <td>True</td>\n      <td>True</td>\n    </tr>\n    <tr>\n      <th>mailru</th>\n      <td>mail.ru</td>\n      <td>True</td>\n      <td>True</td>\n      <td>True</td>\n      <td>True</td>\n      <td>True</td>\n    </tr>\n  </tbody>\n</table>\n</div>"
     },
     "execution_count": 15,
     "metadata": {},
     "output_type": "execute_result"
    }
   ],
   "source": [
    "df = df.set_index(\"esp_label\").join(passive_dns_dataframe.set_index('ESP'))\n",
    "df"
   ],
   "metadata": {
    "collapsed": false,
    "ExecuteTime": {
     "end_time": "2024-07-10T16:44:04.064818917Z",
     "start_time": "2024-07-10T16:44:04.046138696Z"
    }
   },
   "id": "3d6c2af834cf2abb"
  },
  {
   "cell_type": "markdown",
   "source": [
    "## c) Add the Authentication-Results headers informations"
   ],
   "metadata": {
    "collapsed": false
   },
   "id": "cc1baabe429a6bfe"
  },
  {
   "cell_type": "code",
   "execution_count": 16,
   "outputs": [
    {
     "data": {
      "text/plain": "                     esp_name  SPF_txt  SPF_exsit  DKIM_txt  DMARC_txt  \\\nesp_label                                                                \nzohomaileu        zohomail.eu     True       True      True       True   \nyandexcom          yandex.com     True      False      True       True   \nyahoocom            yahoo.com     True       True      True       True   \nseznamcz            seznam.cz     True       True      True       True   \nsapopt                sapo.pt     True       True      True       True   \nrediffcom          rediff.com     True       True      True       True   \nprotonmailcom  protonmail.com     True       True      True       True   \norangefr            orange.fr     True       True      True       True   \noppl                    op.pl     True       True      True       True   \nmailfencecom    mailfence.com     True       True      True       True   \nmailcom              mail.com     True       True      True       True   \nlapostenet        laposte.net     True       True      True       True   \nkolabnowcom      kolabnow.com     True       True      True      False   \ninteriapl          interia.pl     True       True      True       True   \ninboxlv              inbox.lv     True       True      True       True   \nheycom                hey.com     True       True      True       True   \nfreemailhu        freemail.hu    False      False     False      False   \n163com                163.com     True      False      True       True   \ntutanotacom      tutanota.com     True       True      True       True   \ngmxnet                gmx.net     True       True      True       True   \noutlookcom        outlook.com     True       True      True       True   \nnavercom            naver.com     True       True      True       True   \ngmailcom            gmail.com     True       True      True       True   \nfastmailcom      fastmail.com     True       True      True       True   \nmailru                mail.ru     True       True      True       True   \n\n               EDV_process  dmarc_header  dkim_header  spf_header  \nesp_label                                                          \nzohomaileu           False          True         True        True  \nyandexcom            False         False         True        True  \nyahoocom              True          True         True        True  \nseznamcz             False         False        False       False  \nsapopt               False         False        False       False  \nrediffcom            False          True         True        True  \nprotonmailcom        False          True         True        True  \norangefr             False         False         True       False  \noppl                  True          True         True        True  \nmailfencecom         False         False        False       False  \nmailcom              False         False         True       False  \nlapostenet            True          True         True        True  \nkolabnowcom          False         False         True       False  \ninteriapl            False         False        False       False  \ninboxlv              False          True         True        True  \nheycom               False          True         True        True  \nfreemailhu           False         False        False       False  \n163com               False         False         True        True  \ntutanotacom          False          True         True       False  \ngmxnet               False         False         True       False  \noutlookcom           False          True         True        True  \nnavercom             False          True         True        True  \ngmailcom             False          True         True        True  \nfastmailcom           True          True         True        True  \nmailru                True          True         True        True  ",
      "text/html": "<div>\n<style scoped>\n    .dataframe tbody tr th:only-of-type {\n        vertical-align: middle;\n    }\n\n    .dataframe tbody tr th {\n        vertical-align: top;\n    }\n\n    .dataframe thead th {\n        text-align: right;\n    }\n</style>\n<table border=\"1\" class=\"dataframe\">\n  <thead>\n    <tr style=\"text-align: right;\">\n      <th></th>\n      <th>esp_name</th>\n      <th>SPF_txt</th>\n      <th>SPF_exsit</th>\n      <th>DKIM_txt</th>\n      <th>DMARC_txt</th>\n      <th>EDV_process</th>\n      <th>dmarc_header</th>\n      <th>dkim_header</th>\n      <th>spf_header</th>\n    </tr>\n    <tr>\n      <th>esp_label</th>\n      <th></th>\n      <th></th>\n      <th></th>\n      <th></th>\n      <th></th>\n      <th></th>\n      <th></th>\n      <th></th>\n      <th></th>\n    </tr>\n  </thead>\n  <tbody>\n    <tr>\n      <th>zohomaileu</th>\n      <td>zohomail.eu</td>\n      <td>True</td>\n      <td>True</td>\n      <td>True</td>\n      <td>True</td>\n      <td>False</td>\n      <td>True</td>\n      <td>True</td>\n      <td>True</td>\n    </tr>\n    <tr>\n      <th>yandexcom</th>\n      <td>yandex.com</td>\n      <td>True</td>\n      <td>False</td>\n      <td>True</td>\n      <td>True</td>\n      <td>False</td>\n      <td>False</td>\n      <td>True</td>\n      <td>True</td>\n    </tr>\n    <tr>\n      <th>yahoocom</th>\n      <td>yahoo.com</td>\n      <td>True</td>\n      <td>True</td>\n      <td>True</td>\n      <td>True</td>\n      <td>True</td>\n      <td>True</td>\n      <td>True</td>\n      <td>True</td>\n    </tr>\n    <tr>\n      <th>seznamcz</th>\n      <td>seznam.cz</td>\n      <td>True</td>\n      <td>True</td>\n      <td>True</td>\n      <td>True</td>\n      <td>False</td>\n      <td>False</td>\n      <td>False</td>\n      <td>False</td>\n    </tr>\n    <tr>\n      <th>sapopt</th>\n      <td>sapo.pt</td>\n      <td>True</td>\n      <td>True</td>\n      <td>True</td>\n      <td>True</td>\n      <td>False</td>\n      <td>False</td>\n      <td>False</td>\n      <td>False</td>\n    </tr>\n    <tr>\n      <th>rediffcom</th>\n      <td>rediff.com</td>\n      <td>True</td>\n      <td>True</td>\n      <td>True</td>\n      <td>True</td>\n      <td>False</td>\n      <td>True</td>\n      <td>True</td>\n      <td>True</td>\n    </tr>\n    <tr>\n      <th>protonmailcom</th>\n      <td>protonmail.com</td>\n      <td>True</td>\n      <td>True</td>\n      <td>True</td>\n      <td>True</td>\n      <td>False</td>\n      <td>True</td>\n      <td>True</td>\n      <td>True</td>\n    </tr>\n    <tr>\n      <th>orangefr</th>\n      <td>orange.fr</td>\n      <td>True</td>\n      <td>True</td>\n      <td>True</td>\n      <td>True</td>\n      <td>False</td>\n      <td>False</td>\n      <td>True</td>\n      <td>False</td>\n    </tr>\n    <tr>\n      <th>oppl</th>\n      <td>op.pl</td>\n      <td>True</td>\n      <td>True</td>\n      <td>True</td>\n      <td>True</td>\n      <td>True</td>\n      <td>True</td>\n      <td>True</td>\n      <td>True</td>\n    </tr>\n    <tr>\n      <th>mailfencecom</th>\n      <td>mailfence.com</td>\n      <td>True</td>\n      <td>True</td>\n      <td>True</td>\n      <td>True</td>\n      <td>False</td>\n      <td>False</td>\n      <td>False</td>\n      <td>False</td>\n    </tr>\n    <tr>\n      <th>mailcom</th>\n      <td>mail.com</td>\n      <td>True</td>\n      <td>True</td>\n      <td>True</td>\n      <td>True</td>\n      <td>False</td>\n      <td>False</td>\n      <td>True</td>\n      <td>False</td>\n    </tr>\n    <tr>\n      <th>lapostenet</th>\n      <td>laposte.net</td>\n      <td>True</td>\n      <td>True</td>\n      <td>True</td>\n      <td>True</td>\n      <td>True</td>\n      <td>True</td>\n      <td>True</td>\n      <td>True</td>\n    </tr>\n    <tr>\n      <th>kolabnowcom</th>\n      <td>kolabnow.com</td>\n      <td>True</td>\n      <td>True</td>\n      <td>True</td>\n      <td>False</td>\n      <td>False</td>\n      <td>False</td>\n      <td>True</td>\n      <td>False</td>\n    </tr>\n    <tr>\n      <th>interiapl</th>\n      <td>interia.pl</td>\n      <td>True</td>\n      <td>True</td>\n      <td>True</td>\n      <td>True</td>\n      <td>False</td>\n      <td>False</td>\n      <td>False</td>\n      <td>False</td>\n    </tr>\n    <tr>\n      <th>inboxlv</th>\n      <td>inbox.lv</td>\n      <td>True</td>\n      <td>True</td>\n      <td>True</td>\n      <td>True</td>\n      <td>False</td>\n      <td>True</td>\n      <td>True</td>\n      <td>True</td>\n    </tr>\n    <tr>\n      <th>heycom</th>\n      <td>hey.com</td>\n      <td>True</td>\n      <td>True</td>\n      <td>True</td>\n      <td>True</td>\n      <td>False</td>\n      <td>True</td>\n      <td>True</td>\n      <td>True</td>\n    </tr>\n    <tr>\n      <th>freemailhu</th>\n      <td>freemail.hu</td>\n      <td>False</td>\n      <td>False</td>\n      <td>False</td>\n      <td>False</td>\n      <td>False</td>\n      <td>False</td>\n      <td>False</td>\n      <td>False</td>\n    </tr>\n    <tr>\n      <th>163com</th>\n      <td>163.com</td>\n      <td>True</td>\n      <td>False</td>\n      <td>True</td>\n      <td>True</td>\n      <td>False</td>\n      <td>False</td>\n      <td>True</td>\n      <td>True</td>\n    </tr>\n    <tr>\n      <th>tutanotacom</th>\n      <td>tutanota.com</td>\n      <td>True</td>\n      <td>True</td>\n      <td>True</td>\n      <td>True</td>\n      <td>False</td>\n      <td>True</td>\n      <td>True</td>\n      <td>False</td>\n    </tr>\n    <tr>\n      <th>gmxnet</th>\n      <td>gmx.net</td>\n      <td>True</td>\n      <td>True</td>\n      <td>True</td>\n      <td>True</td>\n      <td>False</td>\n      <td>False</td>\n      <td>True</td>\n      <td>False</td>\n    </tr>\n    <tr>\n      <th>outlookcom</th>\n      <td>outlook.com</td>\n      <td>True</td>\n      <td>True</td>\n      <td>True</td>\n      <td>True</td>\n      <td>False</td>\n      <td>True</td>\n      <td>True</td>\n      <td>True</td>\n    </tr>\n    <tr>\n      <th>navercom</th>\n      <td>naver.com</td>\n      <td>True</td>\n      <td>True</td>\n      <td>True</td>\n      <td>True</td>\n      <td>False</td>\n      <td>True</td>\n      <td>True</td>\n      <td>True</td>\n    </tr>\n    <tr>\n      <th>gmailcom</th>\n      <td>gmail.com</td>\n      <td>True</td>\n      <td>True</td>\n      <td>True</td>\n      <td>True</td>\n      <td>False</td>\n      <td>True</td>\n      <td>True</td>\n      <td>True</td>\n    </tr>\n    <tr>\n      <th>fastmailcom</th>\n      <td>fastmail.com</td>\n      <td>True</td>\n      <td>True</td>\n      <td>True</td>\n      <td>True</td>\n      <td>True</td>\n      <td>True</td>\n      <td>True</td>\n      <td>True</td>\n    </tr>\n    <tr>\n      <th>mailru</th>\n      <td>mail.ru</td>\n      <td>True</td>\n      <td>True</td>\n      <td>True</td>\n      <td>True</td>\n      <td>True</td>\n      <td>True</td>\n      <td>True</td>\n      <td>True</td>\n    </tr>\n  </tbody>\n</table>\n</div>"
     },
     "execution_count": 16,
     "metadata": {},
     "output_type": "execute_result"
    }
   ],
   "source": [
    "def extract_header_info(esp, header_name):\n",
    "    esp_data = esp_auth_resuts_info.get(esp)\n",
    "    if esp_data is None:\n",
    "        return None\n",
    "    return header_name in esp_data\n",
    "    \n",
    "df[\"dmarc_header\"] = df.index.map(lambda esp: extract_header_info(esp, \"dmarc\"))\n",
    "df[\"dkim_header\"] = df.index.map(lambda esp: extract_header_info(esp, \"dkim\"))\n",
    "df[\"spf_header\"] = df.index.map(lambda esp: extract_header_info(esp, \"spf\"))\n",
    "\n",
    "df"
   ],
   "metadata": {
    "collapsed": false,
    "ExecuteTime": {
     "end_time": "2024-07-10T16:44:04.065365091Z",
     "start_time": "2024-07-10T16:44:04.046253145Z"
    }
   },
   "id": "81a0bf83141f140d"
  },
  {
   "cell_type": "markdown",
   "source": [
    "## d) Add the DMARC aggregate report test results"
   ],
   "metadata": {
    "collapsed": false
   },
   "id": "e29539b181f5182e"
  },
  {
   "cell_type": "code",
   "execution_count": 17,
   "outputs": [
    {
     "data": {
      "text/plain": "                     esp_name  SPF_txt  SPF_exsit  DKIM_txt  DMARC_txt  \\\nesp_label                                                                \n163com                163.com     True      False      True       True   \nfastmailcom      fastmail.com     True       True      True       True   \nfreemailhu        freemail.hu    False      False     False      False   \ngmailcom            gmail.com     True       True      True       True   \ngmxnet                gmx.net     True       True      True       True   \nheycom                hey.com     True       True      True       True   \ninboxlv              inbox.lv     True       True      True       True   \ninteriapl          interia.pl     True       True      True       True   \nkolabnowcom      kolabnow.com     True       True      True      False   \nlapostenet        laposte.net     True       True      True       True   \nmailcom              mail.com     True       True      True       True   \nmailru                mail.ru     True       True      True       True   \nmailfencecom    mailfence.com     True       True      True       True   \nnavercom            naver.com     True       True      True       True   \noppl                    op.pl     True       True      True       True   \norangefr            orange.fr     True       True      True       True   \noutlookcom        outlook.com     True       True      True       True   \nprotonmailcom  protonmail.com     True       True      True       True   \nrediffcom          rediff.com     True       True      True       True   \nsapopt                sapo.pt     True       True      True       True   \nseznamcz            seznam.cz     True       True      True       True   \ntutanotacom      tutanota.com     True       True      True       True   \nyahoocom            yahoo.com     True       True      True       True   \nyandexcom          yandex.com     True      False      True       True   \nzohomaileu        zohomail.eu     True       True      True       True   \n\n               EDV_process  dmarc_header  dkim_header  spf_header    rua  \\\nesp_label                                                                  \n163com               False         False         True        True  False   \nfastmailcom           True          True         True        True   True   \nfreemailhu           False         False        False       False  False   \ngmailcom             False          True         True        True   True   \ngmxnet               False         False         True       False  False   \nheycom               False          True         True        True  False   \ninboxlv              False          True         True        True  False   \ninteriapl            False         False        False       False  False   \nkolabnowcom          False         False         True       False  False   \nlapostenet            True          True         True        True  False   \nmailcom              False         False         True       False  False   \nmailru                True          True         True        True   True   \nmailfencecom         False         False        False       False  False   \nnavercom             False          True         True        True  False   \noppl                  True          True         True        True  False   \norangefr             False         False         True       False  False   \noutlookcom           False          True         True        True   True   \nprotonmailcom        False          True         True        True  False   \nrediffcom            False          True         True        True  False   \nsapopt               False         False        False       False  False   \nseznamcz             False         False        False       False   True   \ntutanotacom          False          True         True       False  False   \nyahoocom              True          True         True        True   True   \nyandexcom            False         False         True        True  False   \nzohomaileu           False          True         True        True  False   \n\n                 ruf rua_with_edv_success rua_with_edv_failure  \\\nesp_label                                                        \n163com         False                 None                 None   \nfastmailcom    False                 True                 True   \nfreemailhu     False                 None                 None   \ngmailcom       False                 True                False   \ngmxnet         False                 None                 None   \nheycom         False                 None                 None   \ninboxlv        False                 None                 None   \ninteriapl      False                 None                 None   \nkolabnowcom    False                 None                 None   \nlapostenet     False                 None                 None   \nmailcom        False                 None                 None   \nmailru         False                 True                 True   \nmailfencecom   False                 None                 None   \nnavercom       False                 None                 None   \noppl           False                 None                 None   \norangefr       False                 None                 None   \noutlookcom     False                 True                False   \nprotonmailcom  False                 None                 None   \nrediffcom      False                 None                 None   \nsapopt         False                 None                 None   \nseznamcz       False                 True                False   \ntutanotacom    False                 None                 None   \nyahoocom       False                 True                False   \nyandexcom      False                 None                 None   \nzohomaileu     False                 None                 None   \n\n              rua_with_rewritting_edv  \nesp_label                              \n163com                           None  \nfastmailcom                      True  \nfreemailhu                       None  \ngmailcom                        False  \ngmxnet                           None  \nheycom                           None  \ninboxlv                          None  \ninteriapl                        None  \nkolabnowcom                      None  \nlapostenet                       None  \nmailcom                          None  \nmailru                          False  \nmailfencecom                     None  \nnavercom                         None  \noppl                             None  \norangefr                         None  \noutlookcom                      False  \nprotonmailcom                    None  \nrediffcom                        None  \nsapopt                           None  \nseznamcz                        False  \ntutanotacom                      None  \nyahoocom                        False  \nyandexcom                        None  \nzohomaileu                       None  ",
      "text/html": "<div>\n<style scoped>\n    .dataframe tbody tr th:only-of-type {\n        vertical-align: middle;\n    }\n\n    .dataframe tbody tr th {\n        vertical-align: top;\n    }\n\n    .dataframe thead th {\n        text-align: right;\n    }\n</style>\n<table border=\"1\" class=\"dataframe\">\n  <thead>\n    <tr style=\"text-align: right;\">\n      <th></th>\n      <th>esp_name</th>\n      <th>SPF_txt</th>\n      <th>SPF_exsit</th>\n      <th>DKIM_txt</th>\n      <th>DMARC_txt</th>\n      <th>EDV_process</th>\n      <th>dmarc_header</th>\n      <th>dkim_header</th>\n      <th>spf_header</th>\n      <th>rua</th>\n      <th>ruf</th>\n      <th>rua_with_edv_success</th>\n      <th>rua_with_edv_failure</th>\n      <th>rua_with_rewritting_edv</th>\n    </tr>\n    <tr>\n      <th>esp_label</th>\n      <th></th>\n      <th></th>\n      <th></th>\n      <th></th>\n      <th></th>\n      <th></th>\n      <th></th>\n      <th></th>\n      <th></th>\n      <th></th>\n      <th></th>\n      <th></th>\n      <th></th>\n      <th></th>\n    </tr>\n  </thead>\n  <tbody>\n    <tr>\n      <th>163com</th>\n      <td>163.com</td>\n      <td>True</td>\n      <td>False</td>\n      <td>True</td>\n      <td>True</td>\n      <td>False</td>\n      <td>False</td>\n      <td>True</td>\n      <td>True</td>\n      <td>False</td>\n      <td>False</td>\n      <td>None</td>\n      <td>None</td>\n      <td>None</td>\n    </tr>\n    <tr>\n      <th>fastmailcom</th>\n      <td>fastmail.com</td>\n      <td>True</td>\n      <td>True</td>\n      <td>True</td>\n      <td>True</td>\n      <td>True</td>\n      <td>True</td>\n      <td>True</td>\n      <td>True</td>\n      <td>True</td>\n      <td>False</td>\n      <td>True</td>\n      <td>True</td>\n      <td>True</td>\n    </tr>\n    <tr>\n      <th>freemailhu</th>\n      <td>freemail.hu</td>\n      <td>False</td>\n      <td>False</td>\n      <td>False</td>\n      <td>False</td>\n      <td>False</td>\n      <td>False</td>\n      <td>False</td>\n      <td>False</td>\n      <td>False</td>\n      <td>False</td>\n      <td>None</td>\n      <td>None</td>\n      <td>None</td>\n    </tr>\n    <tr>\n      <th>gmailcom</th>\n      <td>gmail.com</td>\n      <td>True</td>\n      <td>True</td>\n      <td>True</td>\n      <td>True</td>\n      <td>False</td>\n      <td>True</td>\n      <td>True</td>\n      <td>True</td>\n      <td>True</td>\n      <td>False</td>\n      <td>True</td>\n      <td>False</td>\n      <td>False</td>\n    </tr>\n    <tr>\n      <th>gmxnet</th>\n      <td>gmx.net</td>\n      <td>True</td>\n      <td>True</td>\n      <td>True</td>\n      <td>True</td>\n      <td>False</td>\n      <td>False</td>\n      <td>True</td>\n      <td>False</td>\n      <td>False</td>\n      <td>False</td>\n      <td>None</td>\n      <td>None</td>\n      <td>None</td>\n    </tr>\n    <tr>\n      <th>heycom</th>\n      <td>hey.com</td>\n      <td>True</td>\n      <td>True</td>\n      <td>True</td>\n      <td>True</td>\n      <td>False</td>\n      <td>True</td>\n      <td>True</td>\n      <td>True</td>\n      <td>False</td>\n      <td>False</td>\n      <td>None</td>\n      <td>None</td>\n      <td>None</td>\n    </tr>\n    <tr>\n      <th>inboxlv</th>\n      <td>inbox.lv</td>\n      <td>True</td>\n      <td>True</td>\n      <td>True</td>\n      <td>True</td>\n      <td>False</td>\n      <td>True</td>\n      <td>True</td>\n      <td>True</td>\n      <td>False</td>\n      <td>False</td>\n      <td>None</td>\n      <td>None</td>\n      <td>None</td>\n    </tr>\n    <tr>\n      <th>interiapl</th>\n      <td>interia.pl</td>\n      <td>True</td>\n      <td>True</td>\n      <td>True</td>\n      <td>True</td>\n      <td>False</td>\n      <td>False</td>\n      <td>False</td>\n      <td>False</td>\n      <td>False</td>\n      <td>False</td>\n      <td>None</td>\n      <td>None</td>\n      <td>None</td>\n    </tr>\n    <tr>\n      <th>kolabnowcom</th>\n      <td>kolabnow.com</td>\n      <td>True</td>\n      <td>True</td>\n      <td>True</td>\n      <td>False</td>\n      <td>False</td>\n      <td>False</td>\n      <td>True</td>\n      <td>False</td>\n      <td>False</td>\n      <td>False</td>\n      <td>None</td>\n      <td>None</td>\n      <td>None</td>\n    </tr>\n    <tr>\n      <th>lapostenet</th>\n      <td>laposte.net</td>\n      <td>True</td>\n      <td>True</td>\n      <td>True</td>\n      <td>True</td>\n      <td>True</td>\n      <td>True</td>\n      <td>True</td>\n      <td>True</td>\n      <td>False</td>\n      <td>False</td>\n      <td>None</td>\n      <td>None</td>\n      <td>None</td>\n    </tr>\n    <tr>\n      <th>mailcom</th>\n      <td>mail.com</td>\n      <td>True</td>\n      <td>True</td>\n      <td>True</td>\n      <td>True</td>\n      <td>False</td>\n      <td>False</td>\n      <td>True</td>\n      <td>False</td>\n      <td>False</td>\n      <td>False</td>\n      <td>None</td>\n      <td>None</td>\n      <td>None</td>\n    </tr>\n    <tr>\n      <th>mailru</th>\n      <td>mail.ru</td>\n      <td>True</td>\n      <td>True</td>\n      <td>True</td>\n      <td>True</td>\n      <td>True</td>\n      <td>True</td>\n      <td>True</td>\n      <td>True</td>\n      <td>True</td>\n      <td>False</td>\n      <td>True</td>\n      <td>True</td>\n      <td>False</td>\n    </tr>\n    <tr>\n      <th>mailfencecom</th>\n      <td>mailfence.com</td>\n      <td>True</td>\n      <td>True</td>\n      <td>True</td>\n      <td>True</td>\n      <td>False</td>\n      <td>False</td>\n      <td>False</td>\n      <td>False</td>\n      <td>False</td>\n      <td>False</td>\n      <td>None</td>\n      <td>None</td>\n      <td>None</td>\n    </tr>\n    <tr>\n      <th>navercom</th>\n      <td>naver.com</td>\n      <td>True</td>\n      <td>True</td>\n      <td>True</td>\n      <td>True</td>\n      <td>False</td>\n      <td>True</td>\n      <td>True</td>\n      <td>True</td>\n      <td>False</td>\n      <td>False</td>\n      <td>None</td>\n      <td>None</td>\n      <td>None</td>\n    </tr>\n    <tr>\n      <th>oppl</th>\n      <td>op.pl</td>\n      <td>True</td>\n      <td>True</td>\n      <td>True</td>\n      <td>True</td>\n      <td>True</td>\n      <td>True</td>\n      <td>True</td>\n      <td>True</td>\n      <td>False</td>\n      <td>False</td>\n      <td>None</td>\n      <td>None</td>\n      <td>None</td>\n    </tr>\n    <tr>\n      <th>orangefr</th>\n      <td>orange.fr</td>\n      <td>True</td>\n      <td>True</td>\n      <td>True</td>\n      <td>True</td>\n      <td>False</td>\n      <td>False</td>\n      <td>True</td>\n      <td>False</td>\n      <td>False</td>\n      <td>False</td>\n      <td>None</td>\n      <td>None</td>\n      <td>None</td>\n    </tr>\n    <tr>\n      <th>outlookcom</th>\n      <td>outlook.com</td>\n      <td>True</td>\n      <td>True</td>\n      <td>True</td>\n      <td>True</td>\n      <td>False</td>\n      <td>True</td>\n      <td>True</td>\n      <td>True</td>\n      <td>True</td>\n      <td>False</td>\n      <td>True</td>\n      <td>False</td>\n      <td>False</td>\n    </tr>\n    <tr>\n      <th>protonmailcom</th>\n      <td>protonmail.com</td>\n      <td>True</td>\n      <td>True</td>\n      <td>True</td>\n      <td>True</td>\n      <td>False</td>\n      <td>True</td>\n      <td>True</td>\n      <td>True</td>\n      <td>False</td>\n      <td>False</td>\n      <td>None</td>\n      <td>None</td>\n      <td>None</td>\n    </tr>\n    <tr>\n      <th>rediffcom</th>\n      <td>rediff.com</td>\n      <td>True</td>\n      <td>True</td>\n      <td>True</td>\n      <td>True</td>\n      <td>False</td>\n      <td>True</td>\n      <td>True</td>\n      <td>True</td>\n      <td>False</td>\n      <td>False</td>\n      <td>None</td>\n      <td>None</td>\n      <td>None</td>\n    </tr>\n    <tr>\n      <th>sapopt</th>\n      <td>sapo.pt</td>\n      <td>True</td>\n      <td>True</td>\n      <td>True</td>\n      <td>True</td>\n      <td>False</td>\n      <td>False</td>\n      <td>False</td>\n      <td>False</td>\n      <td>False</td>\n      <td>False</td>\n      <td>None</td>\n      <td>None</td>\n      <td>None</td>\n    </tr>\n    <tr>\n      <th>seznamcz</th>\n      <td>seznam.cz</td>\n      <td>True</td>\n      <td>True</td>\n      <td>True</td>\n      <td>True</td>\n      <td>False</td>\n      <td>False</td>\n      <td>False</td>\n      <td>False</td>\n      <td>True</td>\n      <td>False</td>\n      <td>True</td>\n      <td>False</td>\n      <td>False</td>\n    </tr>\n    <tr>\n      <th>tutanotacom</th>\n      <td>tutanota.com</td>\n      <td>True</td>\n      <td>True</td>\n      <td>True</td>\n      <td>True</td>\n      <td>False</td>\n      <td>True</td>\n      <td>True</td>\n      <td>False</td>\n      <td>False</td>\n      <td>False</td>\n      <td>None</td>\n      <td>None</td>\n      <td>None</td>\n    </tr>\n    <tr>\n      <th>yahoocom</th>\n      <td>yahoo.com</td>\n      <td>True</td>\n      <td>True</td>\n      <td>True</td>\n      <td>True</td>\n      <td>True</td>\n      <td>True</td>\n      <td>True</td>\n      <td>True</td>\n      <td>True</td>\n      <td>False</td>\n      <td>True</td>\n      <td>False</td>\n      <td>False</td>\n    </tr>\n    <tr>\n      <th>yandexcom</th>\n      <td>yandex.com</td>\n      <td>True</td>\n      <td>False</td>\n      <td>True</td>\n      <td>True</td>\n      <td>False</td>\n      <td>False</td>\n      <td>True</td>\n      <td>True</td>\n      <td>False</td>\n      <td>False</td>\n      <td>None</td>\n      <td>None</td>\n      <td>None</td>\n    </tr>\n    <tr>\n      <th>zohomaileu</th>\n      <td>zohomail.eu</td>\n      <td>True</td>\n      <td>True</td>\n      <td>True</td>\n      <td>True</td>\n      <td>False</td>\n      <td>True</td>\n      <td>True</td>\n      <td>True</td>\n      <td>False</td>\n      <td>False</td>\n      <td>None</td>\n      <td>None</td>\n      <td>None</td>\n    </tr>\n  </tbody>\n</table>\n</div>"
     },
     "execution_count": 17,
     "metadata": {},
     "output_type": "execute_result"
    }
   ],
   "source": [
    "df[\"rua\"] = df[\"esp_name\"].apply(lambda x : x in features_evaluation[\"esp_sending_rua\"])\n",
    "df[\"ruf\"] = df[\"esp_name\"].apply(lambda x : x in features_evaluation[\"esp_sending_ruf\"])\n",
    "df[\"rua_with_edv_success\"] = df[\"esp_name\"].apply(lambda x : x in features_evaluation[\"esp_sending_rua\"] if x in features_evaluation[\"esp_sending_rua\"] else None)\n",
    "df[\"rua_with_edv_failure\"] = df[\"esp_name\"].apply(lambda x : not x in features_evaluation[\"esp_sending_rua_edv_failed\"] if x in features_evaluation[\"esp_sending_rua\"] else None)\n",
    "df[\"rua_with_rewritting_edv\"] = df[\"esp_name\"].apply(lambda x : x in features_evaluation[\"edv_rewritting_rua\"] if x in features_evaluation[\"esp_sending_rua\"] else None)\n",
    "\n",
    "\n",
    "df = df.sort_values(by=['esp_name'], ascending=True)\n",
    "df"
   ],
   "metadata": {
    "collapsed": false,
    "ExecuteTime": {
     "end_time": "2024-07-10T16:44:04.093078365Z",
     "start_time": "2024-07-10T16:44:04.050298076Z"
    }
   },
   "id": "b00a7b7b0b6602bb"
  },
  {
   "cell_type": "markdown",
   "source": [
    "# e) Generate the LaTeX table from the datasets"
   ],
   "metadata": {
    "collapsed": false
   },
   "id": "f587165ad6303c99"
  },
  {
   "cell_type": "code",
   "execution_count": 18,
   "outputs": [
    {
     "name": "stdout",
     "output_type": "stream",
     "text": [
      "\n",
      "%Mandatory LaTeX package : \n",
      "%\\usepackage{color}\n",
      "%\\usepackage{rotating}\n",
      "%\\usepackage{array}\n",
      "%\\usepackage{pifont}\n",
      "%\\usepackage{multirow}\n",
      "%\\usepackage{booktabs}\n",
      "\n",
      "\n",
      "% Python Script start here\n",
      "\n",
      "\\begin{table*}[h!]\n",
      "  \\centering \n",
      "    \\caption{Results of ESP testing that show their adherence to specifications.  \\\\  {\\color{red}\\ding{55}} did not use or respect the feature, {\\color{green}\\ding{51}} respects the feature, - feature cannot be evaluated }\n",
      "    \\label{tab:esp} \n",
      "    \\scriptsize\n",
      "  \n",
      "    \\setlength{\\tabcolsep}{7pt}\n",
      "\\begin{tabular}{l|b{0.1cm}|b{0.1cm}|b{0.1cm}|b{0.1cm}|b{0.1cm}|b{0.1cm}|b{0.1cm}|b{0.1cm}|b{0.1cm}|b{0.1cm}|b{0.1cm}|b{0.1cm}|b{0.1cm}|b{0.1cm}|b{0.1cm}|b{0.1cm}|b{0.1cm}|b{0.1cm}|b{0.1cm}|b{0.1cm}|b{0.1cm}|b{0.1cm}|b{0.1cm}|b{0.1cm}|b{0.1cm}}\n",
      "\n",
      "Features & \\begin{turn}{90}163.com\\end{turn}  & \\begin{turn}{90}fastmail.com\\end{turn}  & \\begin{turn}{90}freemail.hu\\end{turn}  & \\begin{turn}{90}gmail.com\\end{turn}  & \\begin{turn}{90}gmx.net\\end{turn}  & \\begin{turn}{90}hey.com\\end{turn}  & \\begin{turn}{90}inbox.lv\\end{turn}  & \\begin{turn}{90}interia.pl\\end{turn}  & \\begin{turn}{90}kolabnow.com\\end{turn}  & \\begin{turn}{90}laposte.net\\end{turn}  & \\begin{turn}{90}mail.com\\end{turn}  & \\begin{turn}{90}mail.ru\\end{turn}  & \\begin{turn}{90}mailfence.com\\end{turn}  & \\begin{turn}{90}naver.com\\end{turn}  & \\begin{turn}{90}op.pl\\end{turn}  & \\begin{turn}{90}orange.fr\\end{turn}  & \\begin{turn}{90}outlook.com\\end{turn}  & \\begin{turn}{90}protonmail.com\\end{turn}  & \\begin{turn}{90}rediff.com\\end{turn}  & \\begin{turn}{90}sapo.pt\\end{turn}  & \\begin{turn}{90}seznam.cz\\end{turn}  & \\begin{turn}{90}tutanota.com\\end{turn}  & \\begin{turn}{90}yahoo.com\\end{turn}  & \\begin{turn}{90}yandex.com\\end{turn}  & \\begin{turn}{90}zohomail.eu\\end{turn}  \\\\ \\specialrule{1pt}{0pt}{0pt}  \n",
      " $F_{1}$ : $DMARC_{record}$ & {\\color{green}\\ding{51}} & {\\color{green}\\ding{51}} & {\\color{red}\\ding{55}} & {\\color{green}\\ding{51}} & {\\color{green}\\ding{51}} & {\\color{green}\\ding{51}} & {\\color{green}\\ding{51}} & {\\color{green}\\ding{51}} & {\\color{red}\\ding{55}} & {\\color{green}\\ding{51}} & {\\color{green}\\ding{51}} & {\\color{green}\\ding{51}} & {\\color{green}\\ding{51}} & {\\color{green}\\ding{51}} & {\\color{green}\\ding{51}} & {\\color{green}\\ding{51}} & {\\color{green}\\ding{51}} & {\\color{green}\\ding{51}} & {\\color{green}\\ding{51}} & {\\color{green}\\ding{51}} & {\\color{green}\\ding{51}} & {\\color{green}\\ding{51}} & {\\color{green}\\ding{51}} & {\\color{green}\\ding{51}} & {\\color{green}\\ding{51}}  \\\\[1ex] \n",
      "\\specialrule{0.5pt}{0pt}{0pt}  \n",
      " $F_{2}$ : $DMARC_{header}$ & {\\color{red}\\ding{55}} & {\\color{green}\\ding{51}} & {\\color{red}\\ding{55}} & {\\color{green}\\ding{51}} & {\\color{red}\\ding{55}} & {\\color{green}\\ding{51}} & {\\color{green}\\ding{51}} & {\\color{red}\\ding{55}} & {\\color{red}\\ding{55}} & {\\color{green}\\ding{51}} & {\\color{red}\\ding{55}} & {\\color{green}\\ding{51}} & {\\color{red}\\ding{55}} & {\\color{green}\\ding{51}} & {\\color{green}\\ding{51}} & {\\color{red}\\ding{55}} & {\\color{green}\\ding{51}} & {\\color{green}\\ding{51}} & {\\color{green}\\ding{51}} & {\\color{red}\\ding{55}} & {\\color{red}\\ding{55}} & {\\color{green}\\ding{51}} & {\\color{green}\\ding{51}} & {\\color{red}\\ding{55}} & {\\color{green}\\ding{51}}  \\\\[1ex] \n",
      "\\specialrule{0.5pt}{0pt}{0pt}  \n",
      " $F_{3}$ : $DMARC_{rua}$ & {\\color{red}\\ding{55}} & {\\color{green}\\ding{51}} & {\\color{red}\\ding{55}} & {\\color{green}\\ding{51}} & {\\color{red}\\ding{55}} & {\\color{red}\\ding{55}} & {\\color{red}\\ding{55}} & {\\color{red}\\ding{55}} & {\\color{red}\\ding{55}} & {\\color{red}\\ding{55}} & {\\color{red}\\ding{55}} & {\\color{green}\\ding{51}} & {\\color{red}\\ding{55}} & {\\color{red}\\ding{55}} & {\\color{red}\\ding{55}} & {\\color{red}\\ding{55}} & {\\color{green}\\ding{51}} & {\\color{red}\\ding{55}} & {\\color{red}\\ding{55}} & {\\color{red}\\ding{55}} & {\\color{green}\\ding{51}} & {\\color{red}\\ding{55}} & {\\color{green}\\ding{51}} & {\\color{red}\\ding{55}} & {\\color{red}\\ding{55}}  \\\\[1ex] \n",
      " $F_{4}$ : $DMARC_{ruf}$ & {\\color{red}\\ding{55}} & {\\color{red}\\ding{55}} & {\\color{red}\\ding{55}} & {\\color{red}\\ding{55}} & {\\color{red}\\ding{55}} & {\\color{red}\\ding{55}} & {\\color{red}\\ding{55}} & {\\color{red}\\ding{55}} & {\\color{red}\\ding{55}} & {\\color{red}\\ding{55}} & {\\color{red}\\ding{55}} & {\\color{red}\\ding{55}} & {\\color{red}\\ding{55}} & {\\color{red}\\ding{55}} & {\\color{red}\\ding{55}} & {\\color{red}\\ding{55}} & {\\color{red}\\ding{55}} & {\\color{red}\\ding{55}} & {\\color{red}\\ding{55}} & {\\color{red}\\ding{55}} & {\\color{red}\\ding{55}} & {\\color{red}\\ding{55}} & {\\color{red}\\ding{55}} & {\\color{red}\\ding{55}} & {\\color{red}\\ding{55}}  \\\\[1ex] \n",
      "\\specialrule{0.5pt}{0pt}{0pt}  \n",
      " $F_{5}$ : $EDV_{query}$ & {\\color{red}\\ding{55}} & {\\color{green}\\ding{51}} & {\\color{red}\\ding{55}} & {\\color{red}\\ding{55}} & {\\color{red}\\ding{55}} & {\\color{red}\\ding{55}} & {\\color{red}\\ding{55}} & {\\color{red}\\ding{55}} & {\\color{red}\\ding{55}} & {\\color{green}\\ding{51}} & {\\color{red}\\ding{55}} & {\\color{green}\\ding{51}} & {\\color{red}\\ding{55}} & {\\color{red}\\ding{55}} & {\\color{green}\\ding{51}} & {\\color{red}\\ding{55}} & {\\color{red}\\ding{55}} & {\\color{red}\\ding{55}} & {\\color{red}\\ding{55}} & {\\color{red}\\ding{55}} & {\\color{red}\\ding{55}} & {\\color{red}\\ding{55}} & {\\color{green}\\ding{51}} & {\\color{red}\\ding{55}} & {\\color{red}\\ding{55}}  \\\\[1ex] \n",
      " $F_{6}$ : $EDV_{control}$ & - & {\\color{green}\\ding{51}} & - & {\\color{green}\\ding{51}} & - & - & - & - & - & - & - & {\\color{green}\\ding{51}} & - & - & - & - & {\\color{green}\\ding{51}} & - & - & - & {\\color{green}\\ding{51}} & - & {\\color{green}\\ding{51}} & - & -  \\\\[1ex] \n",
      " $F_{7}$ : $EDV_{failure}$ & - & {\\color{green}\\ding{51}} & - & {\\color{red}\\ding{55}} & - & - & - & - & - & - & - & {\\color{green}\\ding{51}} & - & - & - & - & {\\color{red}\\ding{55}} & - & - & - & {\\color{red}\\ding{55}} & - & {\\color{red}\\ding{55}} & - & -  \\\\[1ex] \n",
      " $F_{8}$ : $EDV_{overwrite}$ & - & {\\color{green}\\ding{51}} & - & {\\color{red}\\ding{55}} & - & - & - & - & - & - & - & {\\color{red}\\ding{55}} & - & - & - & - & {\\color{red}\\ding{55}} & - & - & - & {\\color{red}\\ding{55}} & - & {\\color{red}\\ding{55}} & - & -  \\\\[1ex] \n",
      "\n",
      "\\specialrule{1pt}{0pt}{0pt} \n",
      "\\end{tabular}\n",
      "\n",
      "\\end{table*}\n",
      "% Python script end here\n",
      "\n"
     ]
    }
   ],
   "source": [
    "table_data = json.loads(df.to_json())\n",
    "table_key = list(table_data[\"esp_name\"].keys())\n",
    "\n",
    "def build_table(structure, table_data, building_structure =\"\", translate={}, line_break_keys=[]):\n",
    "    res = \"\"\n",
    "    if building_structure == \"\":\n",
    "        building_structure = \"l|\"\n",
    "        for i in range(0, len(table_key)):\n",
    "            building_structure += \"b{0.1cm}|\"\n",
    "\n",
    "        building_structure = building_structure[:-1]\n",
    "\n",
    "    res +=f\"\\\\begin{{tabular}}{{{building_structure}}}\\n\\n\"\n",
    "    f = 0\n",
    "   \n",
    "    res += \"Features &\"\n",
    "    for k in table_key:\n",
    "        res += ' \\\\begin{turn}{90}' + f'{table_data[\"esp_name\"][k]}' + '\\\\end{turn}  &'\n",
    "        \n",
    "    res = res[:-1] + \"\\\\\\\\ \\\\specialrule{1pt}{0pt}{0pt}  \\n\"\n",
    "\n",
    "    feature_no = 1\n",
    "    for f in structure:\n",
    "        res += f' $F_{{{feature_no}}}$ : {translate.get(f, f)} &'\n",
    "        feature_no += 1\n",
    "        for k in table_key:\n",
    "            res += f' {table_data[f][k]} &'\n",
    "        \n",
    "        res = res[:-1] + ' \\\\\\\\[1ex] \\n'\n",
    "        \n",
    "        if f in line_break_keys:\n",
    "            res += '\\specialrule{0.5pt}{0pt}{0pt}  \\n'\n",
    "       \n",
    "    \n",
    "    res +=\"\\n\\\\specialrule{1pt}{0pt}{0pt} \\n\\\\end{tabular}\\n\"\n",
    "   \n",
    "    return res\n",
    "\n",
    "\n",
    "\n",
    "trad_tex = {\n",
    "    'SPF_txt':'$SPF_{record_{txt}}$', \n",
    "    'SPF_exsit':'$SPF_{record_{a}}$', \n",
    "    'DKIM_txt':'$DKIM_{record}$', \n",
    "    'DMARC_txt':'$DMARC_{record}$', \n",
    "    'EDV_process':'$EDV_{query}$', \n",
    "    'dmarc_header':'$DMARC_{header}$', \n",
    "    'dkim_header':'$DKIM_{header}$', \n",
    "    'spf_header':'$SPF_{header}', \n",
    "    'rua':'$DMARC_{rua}$', \n",
    "    'ruf':\"$DMARC_{ruf}$\", \n",
    "    'rua_with_edv_success':'$EDV_{control}$', \n",
    "    'rua_with_edv_failure':'$EDV_{failure}$', \n",
    "    'rua_with_rewritting_edv':'$EDV_{overwrite}$'\n",
    "    \n",
    "}\n",
    "\n",
    "\n",
    "# december_sumbission_structure = ['SPF_txt', 'SPF_exsit', 'DKIM_txt', 'DMARC_txt', 'spf_header', 'dkim_header', 'dmarc_header'  , 'rua', 'ruf', 'EDV_process', 'rua_with_edv_success', 'rua_with_edv_failure', 'rua_with_rewritting_edv']\n",
    "\n",
    "structure = ['DMARC_txt', 'dmarc_header'  , 'rua', 'ruf', 'EDV_process', 'rua_with_edv_success', 'rua_with_edv_failure', 'rua_with_rewritting_edv']\n",
    "\n",
    "\n",
    "latex_tabular = build_table(structure=structure, table_data=table_data, translate=trad_tex, line_break_keys=[\"DMARC_txt\", \"dmarc_header\", \"ruf\"])\n",
    "latex_tabular = latex_tabular.replace(\"True\", \"{\\\\color{green}\\\\ding{51}}\")\n",
    "latex_tabular = latex_tabular.replace(\"False\", \"{\\\\color{red}\\\\ding{55}}\")\n",
    "latex_tabular = latex_tabular.replace(\"None\", \"-\")\n",
    "\n",
    "latex_table = '''\n",
    "%Mandatory LaTeX package : \n",
    "%\\\\usepackage{color}\n",
    "%\\\\usepackage{rotating}\n",
    "%\\\\usepackage{array}\n",
    "%\\\\usepackage{pifont}\n",
    "%\\\\usepackage{multirow}\n",
    "%\\\\usepackage{booktabs}\n",
    "\n",
    "\n",
    "% Python Script start here\\n\n",
    "\\\\begin{table*}[h!]\n",
    "  \\\\centering \n",
    "    \\\\caption{Results of ESP testing that show their adherence to specifications.  \\\\\\\\  {\\\\color{red}\\\\ding{55}} did not use or respect the feature, {\\\\color{green}\\\\ding{51}} respects the feature, - feature cannot be evaluated }\n",
    "    \\\\label{tab:esp} \n",
    "    \\\\scriptsize\n",
    "  \n",
    "    \\\\setlength{\\\\tabcolsep}{7pt}\n",
    "''' + latex_tabular + '''\n",
    "\\\\end{table*}\n",
    "% Python script end here\\n\n",
    "'''\n",
    "print(latex_table)\n",
    "\n",
    "\n",
    "with open(\"results/dmarc_features_table.tex\", 'w') as fp:\n",
    "    fp.write(latex_table)\n"
   ],
   "metadata": {
    "collapsed": false,
    "ExecuteTime": {
     "end_time": "2024-07-10T16:44:04.095535988Z",
     "start_time": "2024-07-10T16:44:04.067165546Z"
    }
   },
   "id": "fed67328f7176d0d"
  }
 ],
 "metadata": {
  "kernelspec": {
   "display_name": "Python 3",
   "language": "python",
   "name": "python3"
  },
  "language_info": {
   "codemirror_mode": {
    "name": "ipython",
    "version": 3
   },
   "file_extension": ".py",
   "mimetype": "text/x-python",
   "name": "python",
   "nbconvert_exporter": "python",
   "pygments_lexer": "ipython3",
   "version": "3.8.10"
  }
 },
 "nbformat": 4,
 "nbformat_minor": 5
}
